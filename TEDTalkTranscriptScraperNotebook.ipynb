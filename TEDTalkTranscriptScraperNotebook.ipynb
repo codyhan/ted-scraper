{
 "cells": [
  {
   "cell_type": "markdown",
   "metadata": {},
   "source": [
    "# TED Talks Transcript Scraper Notebook"
   ]
  },
  {
   "cell_type": "code",
   "execution_count": 1,
   "metadata": {
    "ExecuteTime": {
     "end_time": "2016-09-27T22:59:48.034892",
     "start_time": "2016-09-27T22:59:47.905163"
    },
    "collapsed": false
   },
   "outputs": [],
   "source": [
    "from bs4 import BeautifulSoup\n",
    "from urllib.request import urlopen\n",
    "from urllib.parse import urljoin\n",
    "import time\n",
    "import re\n",
    "import datetime"
   ]
  },
  {
   "cell_type": "markdown",
   "metadata": {},
   "source": [
    "## データ\n",
    "\n",
    "```json\n",
    "{\n",
    "    \"Posted Date\" : \"2016-01-01\",\n",
    "    \"Update Date\" : \"2016-01-02\",\n",
    "    \"Talk Title\" : \"talk-title\", \n",
    "    \"Talk Link Address\" : \"https://www.tad.com/talks/hoge\", \n",
    "    \"Topics\" : [\"topic1\", \"topic2\", \"topic3\"],\n",
    "    \"Transcript Text\" : {\n",
    "        en : [\"sentence1\", \"sentence2\", \"sentence3\"],\n",
    "        ja : [\"文1\", \"文2\", \"文3\"]\n",
    "    }\n",
    "}\n",
    "```"
   ]
  },
  {
   "cell_type": "markdown",
   "metadata": {},
   "source": [
    "### データを取得した日付を取得"
   ]
  },
  {
   "cell_type": "code",
   "execution_count": 2,
   "metadata": {
    "ExecuteTime": {
     "end_time": "2016-09-27T22:59:48.045063",
     "start_time": "2016-09-27T22:59:48.038318"
    },
    "collapsed": false
   },
   "outputs": [
    {
     "name": "stdout",
     "output_type": "stream",
     "text": [
      "2016-09-27\n",
      "<class 'datetime.date'>\n"
     ]
    }
   ],
   "source": [
    "update_date = datetime.date.today()\n",
    "print(update_date)\n",
    "print(type(update_date))"
   ]
  },
  {
   "cell_type": "markdown",
   "metadata": {},
   "source": [
    "## すべてのトークのリンクアドレスを取得する"
   ]
  },
  {
   "cell_type": "markdown",
   "metadata": {},
   "source": [
    "### 1ページ目の各トーク一覧について、トークへのリンクを取得する\n",
    "\n",
    "https://www.ted.com/talks"
   ]
  },
  {
   "cell_type": "code",
   "execution_count": 3,
   "metadata": {
    "ExecuteTime": {
     "end_time": "2016-09-27T22:59:49.780114",
     "start_time": "2016-09-27T22:59:48.048654"
    },
    "collapsed": false
   },
   "outputs": [],
   "source": [
    "base_url = \"https://www.ted.com/talks\"\n",
    "target_url = base_url + \"?language=\" + \"en\"\n",
    "html = urlopen(target_url)\n",
    "\n",
    "soup = BeautifulSoup(html.read(), \"lxml\")\n",
    "talk_link = soup.find_all(\"div\", {\"class\": \"talk-link\"})"
   ]
  },
  {
   "cell_type": "code",
   "execution_count": 4,
   "metadata": {
    "ExecuteTime": {
     "end_time": "2016-09-27T22:59:49.808033",
     "start_time": "2016-09-27T22:59:49.783488"
    },
    "collapsed": false
   },
   "outputs": [],
   "source": [
    "talk_addresses = [tl.find(\"h4\", {\"class\": \"h9\"}).find(\"a\").attrs['href'] for tl in talk_link]"
   ]
  },
  {
   "cell_type": "markdown",
   "metadata": {},
   "source": [
    "### Talkへの相対アドレスを絶対アドレスに変更"
   ]
  },
  {
   "cell_type": "code",
   "execution_count": 5,
   "metadata": {
    "ExecuteTime": {
     "end_time": "2016-09-27T22:59:49.825734",
     "start_time": "2016-09-27T22:59:49.811779"
    },
    "collapsed": false,
    "scrolled": true
   },
   "outputs": [],
   "source": [
    "talk_addresses = [urljoin(base_url, talk_address) for talk_address in talk_addresses]\n",
    "# for talk_address in talk_addresses:\n",
    "#     print(talk_address)"
   ]
  },
  {
   "cell_type": "markdown",
   "metadata": {},
   "source": [
    "### トークのタイトルを取得"
   ]
  },
  {
   "cell_type": "code",
   "execution_count": 6,
   "metadata": {
    "ExecuteTime": {
     "end_time": "2016-09-27T22:59:49.859980",
     "start_time": "2016-09-27T22:59:49.829168"
    },
    "collapsed": false
   },
   "outputs": [
    {
     "name": "stdout",
     "output_type": "stream",
     "text": [
      "[\"The struggles of America's forgotten working class\", 'We can fight terror without sacrificing our rights', 'The era of personal DNA testing is here', 'Why open a school? To close a prison', 'Why you should know how much your coworkers get paid', \"Let's make voting fun again\", 'Why some people are more altruistic than others', \"Architecture that's built to heal\", 'How fear of nuclear power is hurting the environment', 'How to raise successful kids — without over-parenting', 'The future of money', 'A new way to heal hearts without surgery', \"Why helmets don't prevent concussions — and what might\", 'The new American Dream', \"Let's teach for mastery — not test scores\", 'The agony of trying to unsubscribe', 'The risky politics of progress', 'Why you should talk to strangers', 'Bring on the female superheroes!', 'How women wage conflict without violence', 'The spellbinding art of human anatomy', 'How the blockchain is changing money and business', 'The deadly legacy of cluster bombs', 'What we can do to die well', 'The next manufacturing revolution is here', \"How Argentina's blind soccer team became champions\", 'A letter to all who have lost in this era', \"Hunting for Peru's lost civilizations — with satellites\", '3 moons and a planet that could have alien life', 'A small country with big ideas to get rid of fossil fuels', 'What a planet needs to sustain life', 'How Africa can keep rising', 'The taboo secret to better health', 'How to build a business that lasts 100 years', \"The jobs we'll lose to machines — and the ones we won't\", 'How trees talk to each other']\n"
     ]
    }
   ],
   "source": [
    "talk_titles = [tl.find(\"h4\", {\"class\": \"h9\"}).find(\"a\").get_text().strip() for tl in talk_link]\n",
    "print(talk_titles)"
   ]
  },
  {
   "cell_type": "markdown",
   "metadata": {},
   "source": [
    "### トークがポストされた年と月を取得"
   ]
  },
  {
   "cell_type": "code",
   "execution_count": 7,
   "metadata": {
    "ExecuteTime": {
     "end_time": "2016-09-27T22:59:49.901474",
     "start_time": "2016-09-27T22:59:49.864324"
    },
    "collapsed": false
   },
   "outputs": [
    {
     "name": "stdout",
     "output_type": "stream",
     "text": [
      "['Sep 2016', 'Sep 2016', 'Sep 2016', 'Sep 2016', 'Sep 2016', 'Sep 2016', 'Sep 2016', 'Sep 2016', 'Sep 2016', 'Sep 2016', 'Sep 2016', 'Sep 2016', 'Sep 2016', 'Sep 2016', 'Sep 2016', 'Sep 2016', 'Sep 2016', 'Aug 2016', 'Aug 2016', 'Aug 2016', 'Aug 2016', 'Aug 2016', 'Aug 2016', 'Aug 2016', 'Aug 2016', 'Aug 2016', 'Aug 2016', 'Aug 2016', 'Aug 2016', 'Aug 2016', 'Aug 2016', 'Aug 2016', 'Aug 2016', 'Aug 2016', 'Aug 2016', 'Jul 2016']\n"
     ]
    }
   ],
   "source": [
    "talk_month = [tl.find(\"div\", {\"class\":\"meta\"}).find(\"span\", {\"class\":\"meta__val\"}).get_text().strip() for tl in talk_link]\n",
    "print(talk_month)"
   ]
  },
  {
   "cell_type": "markdown",
   "metadata": {},
   "source": [
    "### 年月をdatetime型に変換"
   ]
  },
  {
   "cell_type": "code",
   "execution_count": 8,
   "metadata": {
    "ExecuteTime": {
     "end_time": "2016-09-27T22:59:49.923320",
     "start_time": "2016-09-27T22:59:49.904028"
    },
    "collapsed": false
   },
   "outputs": [
    {
     "name": "stdout",
     "output_type": "stream",
     "text": [
      "['2016-09-01', '2016-09-01', '2016-09-01', '2016-09-01', '2016-09-01', '2016-09-01', '2016-09-01', '2016-09-01', '2016-09-01', '2016-09-01', '2016-09-01', '2016-09-01', '2016-09-01', '2016-09-01', '2016-09-01', '2016-09-01', '2016-09-01', '2016-08-01', '2016-08-01', '2016-08-01', '2016-08-01', '2016-08-01', '2016-08-01', '2016-08-01', '2016-08-01', '2016-08-01', '2016-08-01', '2016-08-01', '2016-08-01', '2016-08-01', '2016-08-01', '2016-08-01', '2016-08-01', '2016-08-01', '2016-08-01', '2016-07-01']\n"
     ]
    }
   ],
   "source": [
    "talk_datetime = []\n",
    "for tm in talk_month:\n",
    "    tdatetime = datetime.datetime.strptime(tm, \"%b %Y\")\n",
    "    tdatetime = tdatetime.strftime(\"%Y-%m-%d\")\n",
    "    talk_datetime.append(tdatetime)\n",
    "\n",
    "print(talk_datetime)"
   ]
  },
  {
   "cell_type": "markdown",
   "metadata": {},
   "source": [
    "### 1ページ目で取得したトークへのリンクアドレスをまとめる"
   ]
  },
  {
   "cell_type": "code",
   "execution_count": 9,
   "metadata": {
    "ExecuteTime": {
     "end_time": "2016-09-27T22:59:49.937643",
     "start_time": "2016-09-27T22:59:49.928518"
    },
    "collapsed": true
   },
   "outputs": [],
   "source": [
    "all_talk_link_address = []\n",
    "for talk_address in talk_addresses:\n",
    "    all_talk_link_address.append(talk_address)"
   ]
  },
  {
   "cell_type": "markdown",
   "metadata": {},
   "source": [
    "### 次のページ（2ページ目）のトーク一覧を取得する"
   ]
  },
  {
   "cell_type": "code",
   "execution_count": 10,
   "metadata": {
    "ExecuteTime": {
     "end_time": "2016-09-27T22:59:50.005987",
     "start_time": "2016-09-27T22:59:49.943362"
    },
    "collapsed": false
   },
   "outputs": [],
   "source": [
    "pagination_div = soup.find(\"div\", {\"class\" : \"pagination\"})"
   ]
  },
  {
   "cell_type": "code",
   "execution_count": 11,
   "metadata": {
    "ExecuteTime": {
     "end_time": "2016-09-27T22:59:50.034440",
     "start_time": "2016-09-27T22:59:50.016285"
    },
    "collapsed": false
   },
   "outputs": [
    {
     "name": "stdout",
     "output_type": "stream",
     "text": [
      "https://www.ted.com/talks?language=en&page=2\n"
     ]
    }
   ],
   "source": [
    "next_link_a = pagination_div.find(\"a\", {\"class\", \"pagination__next\"})\n",
    "next_link = next_link_a.attrs['href']\n",
    "next_link = urljoin(base_url, next_link)\n",
    "print(next_link)"
   ]
  },
  {
   "cell_type": "code",
   "execution_count": 12,
   "metadata": {
    "ExecuteTime": {
     "end_time": "2016-09-27T22:59:51.668490",
     "start_time": "2016-09-27T22:59:50.039420"
    },
    "collapsed": false,
    "scrolled": true
   },
   "outputs": [
    {
     "name": "stdout",
     "output_type": "stream",
     "text": [
      "page: 3\n"
     ]
    }
   ],
   "source": [
    "page_counter = 3\n",
    "while True:\n",
    "    target_url = next_link\n",
    "    html = urlopen(target_url)\n",
    "    soup = BeautifulSoup(html.read(), \"lxml\")\n",
    "    \n",
    "    talk_link = soup.find_all(\"div\", {\"class\" : \"talk-link\"})\n",
    "    talk_addresses = [tl.find(\"h4\", {\"class\": \"h9\"}).find(\"a\").attrs['href'] for tl in talk_link]\n",
    "    talk_addresses = [urljoin(base_url, talk_address) for talk_address in talk_addresses]\n",
    "    \n",
    "    print(\"page: %d\" % page_counter)\n",
    "#     for talk_address in talk_addresses:\n",
    "#         print(talk_address)\n",
    "    \n",
    "    # リンクアドレスを追加\n",
    "    for talk_address in talk_addresses:\n",
    "        all_talk_link_address.append(talk_address)\n",
    "    \n",
    "    # 次のページを取得する\n",
    "    pagination_div = soup.find(\"div\", {\"class\" : \"pagination\"})\n",
    "    next_link_a = pagination_div.find(\"a\", {\"class\", \"pagination__next\"})\n",
    "\n",
    "    # もし次のページが存在しない場合は終了\n",
    "# DEBUG\n",
    "#     if next_link_a is None:\n",
    "#         break\n",
    "        \n",
    "    if next_link:\n",
    "        break\n",
    "\n",
    "    next_link = next_link_a.attrs['href']\n",
    "    next_link = urljoin(base_url, next_link)\n",
    "    print(next_link)\n",
    "\n",
    "    page_counter += 1\n",
    "    time.sleep(2)"
   ]
  },
  {
   "cell_type": "markdown",
   "metadata": {},
   "source": [
    "## トークのトピックを取得する"
   ]
  },
  {
   "cell_type": "markdown",
   "metadata": {},
   "source": [
    "### 1番目のトークについてトピックを取得してみる"
   ]
  },
  {
   "cell_type": "code",
   "execution_count": 13,
   "metadata": {
    "ExecuteTime": {
     "end_time": "2016-09-27T22:59:51.676859",
     "start_time": "2016-09-27T22:59:51.671686"
    },
    "collapsed": false
   },
   "outputs": [
    {
     "name": "stdout",
     "output_type": "stream",
     "text": [
      "https://www.ted.com/talks/j_d_vance_the_struggles_of_america_s_forgotten_working_class?language=en\n"
     ]
    }
   ],
   "source": [
    "target_talk_url = all_talk_link_address[0]\n",
    "print(target_talk_url)"
   ]
  },
  {
   "cell_type": "code",
   "execution_count": 14,
   "metadata": {
    "ExecuteTime": {
     "end_time": "2016-09-27T22:59:53.015905",
     "start_time": "2016-09-27T22:59:51.680214"
    },
    "collapsed": true
   },
   "outputs": [],
   "source": [
    "html = urlopen(target_talk_url)\n",
    "soup = BeautifulSoup(html.read(), \"lxml\")"
   ]
  },
  {
   "cell_type": "code",
   "execution_count": 15,
   "metadata": {
    "ExecuteTime": {
     "end_time": "2016-09-27T22:59:53.041504",
     "start_time": "2016-09-27T22:59:53.018692"
    },
    "collapsed": false
   },
   "outputs": [],
   "source": [
    "talk_topics_div = soup.find(\"div\", {\"class\": \"talk-topics\"})"
   ]
  },
  {
   "cell_type": "code",
   "execution_count": 16,
   "metadata": {
    "ExecuteTime": {
     "end_time": "2016-09-27T22:59:53.078274",
     "start_time": "2016-09-27T22:59:53.044305"
    },
    "collapsed": false
   },
   "outputs": [
    {
     "data": {
      "text/plain": [
       "bs4.element.ResultSet"
      ]
     },
     "execution_count": 16,
     "metadata": {},
     "output_type": "execute_result"
    }
   ],
   "source": [
    "talk_topics_items = talk_topics_div.find_all(\"li\", {\"class\":\"talk-topics__item\"})\n",
    "type(talk_topics_items)"
   ]
  },
  {
   "cell_type": "code",
   "execution_count": 17,
   "metadata": {
    "ExecuteTime": {
     "end_time": "2016-09-27T22:59:53.100039",
     "start_time": "2016-09-27T22:59:53.081078"
    },
    "collapsed": false
   },
   "outputs": [
    {
     "name": "stdout",
     "output_type": "stream",
     "text": [
      "United States\n",
      "Capitalism\n",
      "Children\n",
      "Cities\n",
      "Community\n",
      "Economics\n",
      "Family\n",
      "History\n",
      "Identity\n",
      "Leadership\n",
      "Personal growth\n",
      "Poverty\n",
      "Social change\n"
     ]
    }
   ],
   "source": [
    "topic_list = []\n",
    "for tti in talk_topics_items:\n",
    "    topic = tti.find(\"a\")\n",
    "    if topic is not None:\n",
    "        topic_str = topic.get_text().replace(\"\\n\",\"\")\n",
    "        print(topic_str)\n",
    "        topic_list.append(topic_str)"
   ]
  },
  {
   "cell_type": "markdown",
   "metadata": {},
   "source": [
    "## トークのTranscrpitを取得する"
   ]
  },
  {
   "cell_type": "code",
   "execution_count": 34,
   "metadata": {
    "ExecuteTime": {
     "end_time": "2016-09-27T23:04:15.182203",
     "start_time": "2016-09-27T23:04:15.177397"
    },
    "collapsed": false
   },
   "outputs": [
    {
     "name": "stdout",
     "output_type": "stream",
     "text": [
      "https://www.ted.com/talks/j_d_vance_the_struggles_of_america_s_forgotten_working_class/transcript?language=en\n"
     ]
    }
   ],
   "source": [
    "target_transcrpit_url = target_talk_url.replace(\"?language=en\", \"/transcript?language=en\")\n",
    "print(target_transcrpit_url)"
   ]
  },
  {
   "cell_type": "code",
   "execution_count": 35,
   "metadata": {
    "ExecuteTime": {
     "end_time": "2016-09-27T23:04:22.762737",
     "start_time": "2016-09-27T23:04:22.008705"
    },
    "collapsed": true
   },
   "outputs": [],
   "source": [
    "html = urlopen(target_transcrpit_url)\n",
    "soup = BeautifulSoup(html.read(), \"lxml\")"
   ]
  },
  {
   "cell_type": "code",
   "execution_count": 20,
   "metadata": {
    "ExecuteTime": {
     "end_time": "2016-09-27T22:59:54.753348",
     "start_time": "2016-09-27T22:59:54.730678"
    },
    "collapsed": false
   },
   "outputs": [],
   "source": [
    "talk_transcrpit_para = soup.find_all(\"p\", {\"class\": \"talk-transcript__para\"})"
   ]
  },
  {
   "cell_type": "code",
   "execution_count": 21,
   "metadata": {
    "ExecuteTime": {
     "end_time": "2016-09-27T22:59:54.790047",
     "start_time": "2016-09-27T22:59:54.756678"
    },
    "collapsed": false,
    "scrolled": true
   },
   "outputs": [
    {
     "name": "stdout",
     "output_type": "stream",
     "text": [
      "I remember the very first timeI went to a nice restaurant,a really nice restaurant.It was for a law firm recruitment dinner,and I remember beforehandthe waitress walked aroundand asked whether we wanted some wine,so I said, \"Sure,I'll take some white wine.\"\n",
      "And she immediately said,\"Would you like sauvignon blancor chardonnay?\"\n",
      "And I remember thinking,\"Come on, lady,stop with the fancy French wordsand just give me some white wine.\"But I used my powers of deductionand recognized that chardonnayand sauvignon blancwere two separate types of white wine,and so I told herthat I would take the chardonnay,because frankly that wasthe easiest one to pronounce for me.\n",
      "So I had a lot of experiences like thatduring my first couple of yearsas a law student at Yale,because, despite all outward appearances,I'm a cultural outsider.I didn't come from the elites.I didn't come from the Northeastor from San Francisco.I came from a southern Ohio steel town,and it's a town that's reallystruggling in a lot of ways,ways that are indicativeof the broader strugglesof America's working class.Heroin has moved in,killing a lot of people, people I know.Family violence, domestic violence,and divorce have torn apart families.And there's a very uniquesense of pessimism that's moved in.Think about rising mortality ratesin these communitiesand recognize thatfor a lot of these folks,the problems that they're seeingare actually causing rising death ratesin their own communities,so there's a very real sense of struggle.\n",
      "I had a very front-row seatto that struggle.My family has been part of that strugglefor a very long time.I come from a familythat doesn't have a whole lot of money.The addiction that plagued my communityalso plagued my family,and even, sadly, my own mom.There were a lot of problemsthat I saw in my own family,problems caused sometimesby a lack of money,problems caused sometimes by a lackof access to resources and social capitalthat really affected my life.\n",
      "If you had looked at my lifewhen I was 14 years oldand said, \"Well, what's goingto happen to this kid?\"you would have concludedthat I would have struggledwith what academics call upward mobility.So upward mobility is an abstract term,but it strikes at somethingthat's very coreat the heart of the American Dream.It's the sense,and it measures whether kids like mewho grow up in poor communitiesare going to live a better life,whether they're going to have a chanceto live a materially better existence,or whether they're going to stayin the circumstances where they came from.And one of the thingswe've learned, unfortunately,is that upward mobility isn't as highas we'd like it to be in this country,and interestingly,it's very geographically distributed.So take Utah, for instance.In Utah a poor kid is actually doing OK,very likely to live their shareand their part in the American Dream.But if you think of where I'm from,in the South, in Appalachia,in southern Ohio,it's very unlikelythat kids like that will rise.The American Dreamin those parts of the countryis in a very real sense just a dream.\n",
      "So why is that happening?So one reason is obviouslyeconomic or structural.So you think of these areas.They're beset by theseterrible economic trends,built around industrieslike coal and steelthat make it harderfor folks to get ahead.That's certainly one problem.There's also the problem of brain drain,where the really talented people,because they can't findhigh-skilled work at home,end up moving elsewhere,so they don't build a businessor non-profit where they're from,they end up going elsewhereand taking their talents with them.There are failing schoolsin a lot of these communities,failing to give kidsthe educational leg upthat really makes it possible for kidsto have opportunities later in life.These things are all important.I don't mean to discountthese structural barriers.But when I look back at my lifeand my community,something else was going on,something else mattered.It's difficult to quantify,but it was no less real.\n",
      "So for starters, there wasa very real sense of hopelessnessin the community that I grew up in.There was a sense that kids hadthat their choices didn't matter.No matter what happened,no matter how hard they worked,no matter how hardthey tried to get ahead,nothing good would happen.So that's a tough feelingto grow up around.That's a tough mindset to penetrate,and it leads sometimesto very conspiratorial places.So let's just take onepolitical issue that's pretty hot,affirmative action.So depending on your politics,you might think that affirmative actionis either a wise or an unwise wayto promote diversity in the workplaceor the classroom.But if you grow up in an area like this,you see affirmative actionas a tool to hold people like you back.That's especially true if you'rea member of the white working class.You see it as somethingthat isn't just about good or bad policy.You see it as somethingthat's actively conspiring,where people with politicaland financial powerare working against you.And there are a lot of ways that you seethat conspiracy against you --perceived, real, but it's there,and it warps expectations.\n",
      "So if you think about what do you dowhen you grow up in that world,you can respond in a couple of ways.One, you can say,\"I'm not going to work hard,because no matter how hard I work,it's not going to matter.\"Another thing you might do is say,\"Well, I'm not going to goafter the traditional markers of success,like a university educationor a prestigious job,because the people who careabout those things are unlike me.They're never going to let me in.\"When I got admitted to Yale,a family member asked meif I had pretended to be a liberalto get by the admissions committee.Seriously.And it's obviously not the casethat there was a liberal box to checkon the application,but it speaks to a very realinsecurity in these placesthat you have to pretendto be somebody you're notto get past these various social barriers.It's a very significant problem.\n",
      "Even if you don't give into that hopelessness,even if you think, let's say,that your choices matterand you want to make the good choices,you want to do betterfor yourself and for your family,it's sometimes hardto even know what those choices arewhen you grow upin a community like I did.I didn't know, for example,that you had to goto law school to be a lawyer.I didn't know that elite universities,as research consistently tells us,are cheaper for low-income kidsbecause these universitieshave bigger endowments,can offer more generous financial aid.I remember I learned thiswhen I got the financial aid letterfrom Yale for myself,tens of thousands of dollarsin need-based aid,which is a term I had never heard before.But I turned to my auntwhen I got that letter and said,\"You know, I think this just meansthat for the first time in my life,being poor has paid really well.\"\n",
      "So I didn't have accessto that informationbecause the social networks around medidn't have access to that information.I learned from my communityhow to shoot a gun, how to shoot it well.I learned how to makea damn good biscuit recipe.The trick, by the way,is frozen butter, not warm butter.But I didn't learn how to get ahead.I didn't learn how to makethe good decisionsabout education and opportunitythat you need to maketo actually have a chancein this 21st century knowledge economy.Economists call the valuethat we gain from our informal networks,from our friends and colleaguesand family \"social capital.\"The social capital that I hadwasn't built for 21st century America,and it showed.\n",
      "There's something elsethat's really important that's going onthat our communitydoesn't like to talk about,but it's very real.Working-class kids are much more likelyto face what's calledadverse childhood experiences,which is just a fancy wordfor childhood trauma:getting hit or yelled at,put down by a parent repeatedly,watching someone hit or beat your parent,watching someone do drugsor abuse alcohol.These are all instancesof childhood trauma,and they're prettycommonplace in my family.Importantly, they're not justcommonplace in my family right now.They're also multigenerational.So my grandparents,the very first time that they had kids,they expected that theywere going to raise them in a waythat was uniquely good.They were middle class,they were able to earna good wage in a steel mill.But what ended up happeningis that they exposed their kidsto a lot of the childhood traumathat had gone back many generations.My mom was 12 when she sawmy grandma set my grandfather on fire.His crime was that he came home drunkafter she told him,\"If you come home drunk,I'm gonna kill you.\"And she tried to do it.Think about the waythat that affects a child's mind.\n",
      "And we think of these thingsas especially rare,but a study by the WisconsinChildren's Trust Fund foundthat 40 percent of low-income kids facemultiple instances of childhood trauma,compared to only 29 percentfor upper-income kids.And think about what that really means.If you're a low-income kid,almost half of you face multipleinstances of childhood trauma.This is not an isolated problem.This is a very significant issue.\n",
      "We know what happensto the kids who experience that life.They're more likely to do drugs,more likely to go to jail,more likely to drop out of high school,and most importantly,they're more likelyto do to their childrenwhat their parents did to them.This trauma, this chaos in the home,is our culture'svery worst gift to our children,and it's a gift that keeps on giving.\n",
      "So you combine all that,the hopelessness, the despair,the cynicism about the future,the childhood trauma,the low social capital,and you begin to understand why me,at the age of 14,was ready to becomejust another statistic,another kid who failed to beat the odds.\n",
      "But something unexpected happened.I did beat the odds.Things turned up for me.I graduated from high school,from college, I went to law school,and I have a pretty good job now.So what happened?\n",
      "Well, one thing that happenedis that my grandparents,the same grandparentsof setting someone on fire fame,they really shaped upby the time I came around.They provided me a stable home,a stable family.They made surethat when my parents weren't ableto do the things that kids need,they stepped in and filled that role.My grandma especiallydid two things that really matter.One, she provided that peaceful homethat allowed me to focus on homeworkand the things that kidsshould be focused on.But she was alsothis incredibly perceptive woman,despite not even havinga middle school education.She recognized the messagethat my community had for me,that my choices didn't matter,that the deck was stacked against me.She once told me,\"JD, never be like those losers who thinkthe deck is stacked against them.You can do anything you want to.\"\n",
      "And yet she recognizedthat life wasn't fair.It's hard to strike that balance,to tell a kid that life isn't fair,but also recognize and enforce in themthe reality that their choices matter.But mamaw was ableto strike that balance.\n",
      "The other thing that really helpedwas the United States Marine Corps.So we think of the Marine Corpsas a military outfit, and of course it is,but for me, the US Marine Corpswas a four-year crash coursein character education.It taught me how to make a bed,how to do laundry,how to wake up early,how to manage my finances.These are thingsmy community didn't teach me.I remember when I wentto go buy a car for the very first time,I was offered a dealer'slow, low interest rate of 21.9 percent,and I was readyto sign on the dotted line.But I didn't take that deal,because I went and took it to my officerwho told me, \"Stop being an idiot,go to the local credit union,and get a better deal.\"And so that's what I did.But without the Marine Corps,I would have never had accessto that knowledge.I would have hada financial calamity, frankly.\n",
      "The last thing I want to sayis that I had a lot of good fortunein the mentors and peoplewho have playedan important role in my life.From the Marines,from Ohio State, from Yale,from other places,people have really stepped inand ensured that they filledthat social capital gapthat it was pretty obvious,apparently, that I had.That comes from good fortune,but a lot of childrenaren't going to have that good fortune,and I think that raisesreally important questions for all of usabout how we're going to change that.We need to ask questions abouthow we're going to give low-income kidswho come from a broken homeaccess to a loving home.We need to ask questionsabout how we're goingto teach low-income parentshow to better interactwith their children,with their partners.We need to ask questionsabout how we give social capital,mentorship to low-income kidswho don't have it.We need to think abouthow we teach working class childrenabout not just hard skills,like reading, mathematics,but also soft skills,like conflict resolutionand financial management.\n",
      "Now, I don't have all of the answers.I don't know all of the solutionsto this problem,but I do know this:in southern Ohio right now,there's a kid who isanxiously awaiting their dad,wondering whether,when he comes through the door,he'll walk calmly or stumble drunkly.There's a kidwhose mom sticks a needle in her armand passes out,and he doesn't knowwhy she doesn't cook him dinner,and he goes to bed hungry that night.There's a kid who hasno hope for the futurebut desperatelywants to live a better life.They just want somebodyto show it to them.I don't have all the answers,but I know that unless our societystarts asking better questionsabout why I was so luckyand about how to get that luckto more of our communitiesand our country's children,we're going to continueto have a very significant problem.\n",
      "Thank you.\n",
      "(Applause)\n"
     ]
    }
   ],
   "source": [
    "for ttp in talk_transcrpit_para:\n",
    "    transcript_text = ttp.find(\"span\", {\"class\": \"talk-transcript__para__text\"})\n",
    "    print(transcript_text.get_text().replace(\"\\n\",\"\"))"
   ]
  },
  {
   "cell_type": "markdown",
   "metadata": {},
   "source": [
    "### 字幕が表示される時の時間情報を取得してみる"
   ]
  },
  {
   "cell_type": "code",
   "execution_count": 36,
   "metadata": {
    "ExecuteTime": {
     "end_time": "2016-09-27T23:04:27.039265",
     "start_time": "2016-09-27T23:04:27.019803"
    },
    "collapsed": true
   },
   "outputs": [],
   "source": [
    "talk_transcript_time = soup.find_all(\"p\", {\"class\": \"talk-transcript__para\"})"
   ]
  },
  {
   "cell_type": "code",
   "execution_count": 40,
   "metadata": {
    "ExecuteTime": {
     "end_time": "2016-09-27T23:05:47.537773",
     "start_time": "2016-09-27T23:05:47.527050"
    },
    "collapsed": false
   },
   "outputs": [
    {
     "name": "stdout",
     "output_type": "stream",
     "text": [
      "['0:11', '0:25', '0:30', '0:50', '1:42', '2:15', '3:26', '4:19', '5:30', '6:16', '7:06', '7:49', '9:04', '9:34', '10:01', '10:21', '10:36', '11:23', '11:40', '12:25', '13:32', '14:32', '14:33']\n"
     ]
    }
   ],
   "source": [
    "transcript_time = []\n",
    "for ttt in talk_transcript_time:\n",
    "    transcript_time.append(ttt.find(\"data\", {\"class\":\"talk-transcript__para__time\"}).get_text().strip())\n",
    "\n",
    "print(transcript_time)"
   ]
  },
  {
   "cell_type": "markdown",
   "metadata": {},
   "source": [
    "## TED Talksで利用できる言語を取得してみる\n",
    "\n",
    "https://www.ted.com/participate/translate/our-languages"
   ]
  },
  {
   "cell_type": "code",
   "execution_count": 23,
   "metadata": {
    "ExecuteTime": {
     "end_time": "2016-09-27T22:59:54.844085",
     "start_time": "2016-09-27T22:59:54.838652"
    },
    "collapsed": true
   },
   "outputs": [],
   "source": [
    "LANG_URL = \"https://www.ted.com/participate/translate/our-languages\""
   ]
  },
  {
   "cell_type": "code",
   "execution_count": 24,
   "metadata": {
    "ExecuteTime": {
     "end_time": "2016-09-27T22:59:55.955536",
     "start_time": "2016-09-27T22:59:54.848112"
    },
    "collapsed": true
   },
   "outputs": [],
   "source": [
    "html = urlopen(LANG_URL)\n",
    "soup = BeautifulSoup(html.read(), \"lxml\")"
   ]
  },
  {
   "cell_type": "code",
   "execution_count": 25,
   "metadata": {
    "ExecuteTime": {
     "end_time": "2016-09-27T22:59:55.986397",
     "start_time": "2016-09-27T22:59:55.958483"
    },
    "collapsed": false
   },
   "outputs": [],
   "source": [
    "lang_div = soup.find_all(\"div\", {\"class\":\"languages__list__language\"})"
   ]
  },
  {
   "cell_type": "code",
   "execution_count": 26,
   "metadata": {
    "ExecuteTime": {
     "end_time": "2016-09-27T22:59:56.035463",
     "start_time": "2016-09-27T22:59:55.989384"
    },
    "collapsed": false
   },
   "outputs": [
    {
     "name": "stdout",
     "output_type": "stream",
     "text": [
      "lang type: Afrikaans                 symbol: af    23    talks\n",
      "lang type: Albanian                  symbol: sq    627   talks\n",
      "lang type: Algerian Arabic           symbol: arq   9     talks\n",
      "lang type: Amharic                   symbol: am    13    talks\n",
      "lang type: Arabic                    symbol: ar    2157  talks\n",
      "lang type: Armenian                  symbol: hy    306   talks\n",
      "lang type: Assamese                  symbol: as    1     talks\n",
      "lang type: Asturian                  symbol: ast   2     talks\n",
      "lang type: Azerbaijani               symbol: az    108   talks\n",
      "lang type: Basque                    symbol: eu    53    talks\n",
      "lang type: Belarusian                symbol: be    71    talks\n",
      "lang type: Bengali                   symbol: bn    90    talks\n",
      "lang type: Bislama                   symbol: bi    1     talks\n",
      "lang type: Bosnian                   symbol: bs    83    talks\n",
      "lang type: Bulgarian                 symbol: bg    1794  talks\n",
      "lang type: Burmese                   symbol: my    371   talks\n",
      "lang type: Catalan                   symbol: ca    410   talks\n",
      "lang type: Cebuano                   symbol: ceb   3     talks\n",
      "lang type: Chinese, Simplified       symbol: zh-cn 2149  talks\n",
      "lang type: Chinese, Traditional      symbol: zh-tw 2143  talks\n",
      "lang type: Chinese, Yue              symbol: zh    134   talks\n",
      "lang type: Creole, Haitian           symbol: ht    3     talks\n",
      "lang type: Croatian                  symbol: hr    1367  talks\n",
      "lang type: Czech                     symbol: cs    1247  talks\n",
      "lang type: Danish                    symbol: da    556   talks\n",
      "lang type: Dutch                     symbol: nl    2032  talks\n",
      "lang type: Dzongkha                  symbol: dz    1     talks\n",
      "lang type: English                   symbol: en    2290  talks\n",
      "lang type: Esperanto                 symbol: eo    104   talks\n",
      "lang type: Estonian                  symbol: et    142   talks\n",
      "lang type: Filipino                  symbol: fil   43    talks\n",
      "lang type: Finnish                   symbol: fi    312   talks\n",
      "lang type: French                    symbol: fr    2159  talks\n",
      "lang type: French (Canada)           symbol: fr-ca 321   talks\n",
      "lang type: Galician                  symbol: gl    137   talks\n",
      "lang type: Georgian                  symbol: ka    164   talks\n",
      "lang type: German                    symbol: de    1947  talks\n",
      "lang type: Greek                     symbol: el    1752  talks\n",
      "lang type: Gujarati                  symbol: gu    28    talks\n",
      "lang type: Hakha Chin                symbol: cnh   1     talks\n",
      "lang type: Hausa                     symbol: ha    1     talks\n",
      "lang type: Hebrew                    symbol: he    2173  talks\n",
      "lang type: Hindi                     symbol: hi    269   talks\n",
      "lang type: Hungarian                 symbol: hu    1636  talks\n",
      "lang type: Hupa                      symbol: hup   1     talks\n",
      "lang type: Icelandic                 symbol: is    15    talks\n",
      "lang type: Igbo                      symbol: ig    1     talks\n",
      "lang type: Indonesian                symbol: id    1138  talks\n",
      "lang type: Ingush                    symbol: inh   1     talks\n",
      "lang type: Irish                     symbol: ga    3     talks\n",
      "lang type: Italian                   symbol: it    2160  talks\n",
      "lang type: Japanese                  symbol: ja    2126  talks\n",
      "lang type: Kannada                   symbol: kn    13    talks\n",
      "lang type: Kazakh                    symbol: kk    71    talks\n",
      "lang type: Khmer                     symbol: km    3     talks\n",
      "lang type: Klingon                   symbol: tlh   1     talks\n",
      "lang type: Korean                    symbol: ko    2169  talks\n",
      "lang type: Kurdish                   symbol: ku    156   talks\n",
      "lang type: Kyrgyz                    symbol: ky    9     talks\n",
      "lang type: Lao                       symbol: lo    3     talks\n",
      "lang type: Latgalian                 symbol: ltg   3     talks\n",
      "lang type: Latin                     symbol: la    1     talks\n",
      "lang type: Latvian                   symbol: lv    371   talks\n",
      "lang type: Lithuanian                symbol: lt    591   talks\n",
      "lang type: Luxembourgish             symbol: lb    2     talks\n",
      "lang type: Macedo                    symbol: rup   11    talks\n",
      "lang type: Macedonian                symbol: mk    320   talks\n",
      "lang type: Malagasy                  symbol: mg    6     talks\n",
      "lang type: Malay                     symbol: ms    107   talks\n",
      "lang type: Malayalam                 symbol: ml    31    talks\n",
      "lang type: Maltese                   symbol: mt    2     talks\n",
      "lang type: Marathi                   symbol: mr    135   talks\n",
      "lang type: Mauritian Creole          symbol: mfe   1     talks\n",
      "lang type: Mongolian                 symbol: mn    145   talks\n",
      "lang type: Montenegrin               symbol: srp   24    talks\n",
      "lang type: Nepali                    symbol: ne    36    talks\n",
      "lang type: Norwegian Bokmal          symbol: nb    228   talks\n",
      "lang type: Norwegian Nynorsk         symbol: nn    13    talks\n",
      "lang type: Occitan                   symbol: oc    1     talks\n",
      "lang type: Pashto                    symbol: ps    4     talks\n",
      "lang type: Persian                   symbol: fa    1670  talks\n",
      "lang type: Polish                    symbol: pl    1916  talks\n",
      "lang type: Portuguese                symbol: pt    1702  talks\n",
      "lang type: Portuguese, Brazilian     symbol: pt-br 2174  talks\n",
      "lang type: Punjabi                   symbol: pa    3     talks\n",
      "lang type: Romanian                  symbol: ro    2037  talks\n",
      "lang type: Russian                   symbol: ru    2169  talks\n",
      "lang type: Rusyn                     symbol: ry    1     talks\n",
      "lang type: Serbian                   symbol: sr    1665  talks\n",
      "lang type: Serbo-Croatian            symbol: sh    15    talks\n",
      "lang type: Silesian                  symbol: szl   1     talks\n",
      "lang type: Sinhala                   symbol: si    10    talks\n",
      "lang type: Slovak                    symbol: sk    861   talks\n",
      "lang type: Slovenian                 symbol: sl    334   talks\n",
      "lang type: Somali                    symbol: so    20    talks\n",
      "lang type: Spanish                   symbol: es    2176  talks\n",
      "lang type: Swahili                   symbol: sw    33    talks\n",
      "lang type: Swedish                   symbol: sv    821   talks\n",
      "lang type: Swedish Chef              symbol: art-x-bork 1     talks\n",
      "lang type: Tagalog                   symbol: tl    19    talks\n",
      "lang type: Tajik                     symbol: tg    11    talks\n",
      "lang type: Tamil                     symbol: ta    104   talks\n",
      "lang type: Tatar                     symbol: tt    6     talks\n",
      "lang type: Telugu                    symbol: te    36    talks\n",
      "lang type: Thai                      symbol: th    1098  talks\n",
      "lang type: Tibetan                   symbol: bo    14    talks\n",
      "lang type: Turkish                   symbol: tr    1963  talks\n",
      "lang type: Ukrainian                 symbol: uk    1308  talks\n",
      "lang type: Urdu                      symbol: ur    120   talks\n",
      "lang type: Uyghur                    symbol: ug    18    talks\n",
      "lang type: Uzbek                     symbol: uz    44    talks\n",
      "lang type: Vietnamese                symbol: vi    1927  talks\n"
     ]
    }
   ],
   "source": [
    "lang_info = []\n",
    "for ld in lang_div:\n",
    "    lang_type = ld.find(\"a\").get_text()\n",
    "    lang_symbol = ld.find(\"a\").attrs['href'].replace(\"/talks?language=\", \"\")\n",
    "    lang_talks = ld.get_text().replace(\"\\n\", \"\").replace(lang_type, \"\")\n",
    "    lang_talks = re.match(\"\\d*\", lang_talks)\n",
    "    lang_talks = lang_talks.group()\n",
    "    \n",
    "    print(\"lang type: %-25s symbol: %-5s %-5s talks\" % (lang_type, lang_symbol, lang_talks))"
   ]
  }
 ],
 "metadata": {
  "anaconda-cloud": {},
  "kernelspec": {
   "display_name": "Python [default]",
   "language": "python",
   "name": "python3"
  },
  "language_info": {
   "codemirror_mode": {
    "name": "ipython",
    "version": 3
   },
   "file_extension": ".py",
   "mimetype": "text/x-python",
   "name": "python",
   "nbconvert_exporter": "python",
   "pygments_lexer": "ipython3",
   "version": "3.5.2"
  },
  "notify_time": "10"
 },
 "nbformat": 4,
 "nbformat_minor": 1
}
