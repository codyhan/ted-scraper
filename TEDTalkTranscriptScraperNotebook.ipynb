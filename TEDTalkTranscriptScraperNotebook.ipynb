{
 "cells": [
  {
   "cell_type": "markdown",
   "metadata": {},
   "source": [
    "# TED Talks Transcript Scraper Notebook"
   ]
  },
  {
   "cell_type": "code",
   "execution_count": 1,
   "metadata": {
    "ExecuteTime": {
     "end_time": "2016-09-26T19:21:27.998376",
     "start_time": "2016-09-26T19:21:27.901824"
    },
    "collapsed": false
   },
   "outputs": [],
   "source": [
    "from bs4 import BeautifulSoup\n",
    "from urllib.request import urlopen\n",
    "from urllib.parse import urljoin\n",
    "import time\n",
    "import re\n",
    "import datetime"
   ]
  },
  {
   "cell_type": "markdown",
   "metadata": {},
   "source": [
    "## データ\n",
    "\n",
    "```json\n",
    "{\n",
    "    \"Posted Date\" : \"2016-01-01\",\n",
    "    \"Update Date\" : \"2016-01-02\",\n",
    "    \"Talk Title\" : \"talk-title\", \n",
    "    \"Talk Link Address\" : \"https://www.tad.com/talks/hoge?language=en\", \n",
    "    \"Language\" : \"en\", \n",
    "    \"Topics\" : [\"topic1\". \"topic2\", \"topic3\"],\n",
    "    \"Transcript Text\" : [\"sentence1\", \"sentence2\", \"sentence3\"]\n",
    "}\n",
    "```"
   ]
  },
  {
   "cell_type": "markdown",
   "metadata": {},
   "source": [
    "### データを取得した日付を取得"
   ]
  },
  {
   "cell_type": "code",
   "execution_count": 2,
   "metadata": {
    "ExecuteTime": {
     "end_time": "2016-09-26T19:21:28.019587",
     "start_time": "2016-09-26T19:21:28.002613"
    },
    "collapsed": false
   },
   "outputs": [
    {
     "name": "stdout",
     "output_type": "stream",
     "text": [
      "2016-09-26\n"
     ]
    }
   ],
   "source": [
    "update_date = datetime.date.today()\n",
    "print(update_date)"
   ]
  },
  {
   "cell_type": "markdown",
   "metadata": {},
   "source": [
    "## すべてのトークのリンクアドレスを取得する"
   ]
  },
  {
   "cell_type": "markdown",
   "metadata": {},
   "source": [
    "### 1ページ目の各トーク一覧について、トークへのリンクを取得する\n",
    "\n",
    "https://www.ted.com/talks"
   ]
  },
  {
   "cell_type": "code",
   "execution_count": 3,
   "metadata": {
    "ExecuteTime": {
     "end_time": "2016-09-26T19:21:29.617303",
     "start_time": "2016-09-26T19:21:28.028060"
    },
    "collapsed": false
   },
   "outputs": [],
   "source": [
    "base_url = \"https://www.ted.com/talks\"\n",
    "target_url = base_url + \"?language=\" + \"en\"\n",
    "html = urlopen(target_url)\n",
    "\n",
    "soup = BeautifulSoup(html.read(), \"lxml\")\n",
    "talk_link = soup.find_all(\"div\", {\"class\": \"talk-link\"})"
   ]
  },
  {
   "cell_type": "code",
   "execution_count": 4,
   "metadata": {
    "ExecuteTime": {
     "end_time": "2016-09-26T19:21:29.643497",
     "start_time": "2016-09-26T19:21:29.619631"
    },
    "collapsed": false
   },
   "outputs": [],
   "source": [
    "talk_addresses = [tl.find(\"h4\", {\"class\": \"h9\"}).find(\"a\").attrs['href'] for tl in talk_link]"
   ]
  },
  {
   "cell_type": "markdown",
   "metadata": {},
   "source": [
    "### Talkへの相対アドレスを絶対アドレスに変更"
   ]
  },
  {
   "cell_type": "code",
   "execution_count": 5,
   "metadata": {
    "ExecuteTime": {
     "end_time": "2016-09-26T19:21:29.669517",
     "start_time": "2016-09-26T19:21:29.647330"
    },
    "collapsed": false,
    "scrolled": true
   },
   "outputs": [],
   "source": [
    "talk_addresses = [urljoin(base_url, talk_address) for talk_address in talk_addresses]\n",
    "# for talk_address in talk_addresses:\n",
    "#     print(talk_address)"
   ]
  },
  {
   "cell_type": "markdown",
   "metadata": {},
   "source": [
    "### トークのタイトルを取得"
   ]
  },
  {
   "cell_type": "code",
   "execution_count": 6,
   "metadata": {
    "ExecuteTime": {
     "end_time": "2016-09-26T19:21:29.710122",
     "start_time": "2016-09-26T19:21:29.672020"
    },
    "collapsed": false
   },
   "outputs": [
    {
     "name": "stdout",
     "output_type": "stream",
     "text": [
      "['We can fight terror without sacrificing our rights', 'The era of personal DNA testing is here', 'Why open a school? To close a prison', 'Why you should know how much your coworkers get paid', \"Let's make voting fun again\", 'Why some people are more altruistic than others', \"Architecture that's built to heal\", 'How fear of nuclear power is hurting the environment', 'How to raise successful kids — without over-parenting', 'The future of money', 'A new way to heal hearts without surgery', \"Why helmets don't prevent concussions — and what might\", 'The new American Dream', \"Let's teach for mastery — not test scores\", 'The agony of trying to unsubscribe', 'The risky politics of progress', 'Why you should talk to strangers', 'Bring on the female superheroes!', 'How women wage conflict without violence', 'The spellbinding art of human anatomy', 'How the blockchain is changing money and business', 'The deadly legacy of cluster bombs', 'What we can do to die well', 'The next manufacturing revolution is here', \"How Argentina's blind soccer team became champions\", 'A letter to all who have lost in this era', \"Hunting for Peru's lost civilizations — with satellites\", '3 moons and a planet that could have alien life', 'A small country with big ideas to get rid of fossil fuels', 'What a planet needs to sustain life', 'How Africa can keep rising', 'The taboo secret to better health', 'How to build a business that lasts 100 years', \"The jobs we'll lose to machines — and the ones we won't\", 'How trees talk to each other', \"A new way to study the brain's invisible secrets\"]\n"
     ]
    }
   ],
   "source": [
    "talk_titles = [tl.find(\"h4\", {\"class\": \"h9\"}).find(\"a\").get_text().strip() for tl in talk_link]\n",
    "print(talk_titles)"
   ]
  },
  {
   "cell_type": "markdown",
   "metadata": {},
   "source": [
    "### トークがポストされた年と月を取得"
   ]
  },
  {
   "cell_type": "code",
   "execution_count": 7,
   "metadata": {
    "ExecuteTime": {
     "end_time": "2016-09-26T19:21:29.738317",
     "start_time": "2016-09-26T19:21:29.713576"
    },
    "collapsed": false
   },
   "outputs": [
    {
     "name": "stdout",
     "output_type": "stream",
     "text": [
      "['Sep 2016', 'Sep 2016', 'Sep 2016', 'Sep 2016', 'Sep 2016', 'Sep 2016', 'Sep 2016', 'Sep 2016', 'Sep 2016', 'Sep 2016', 'Sep 2016', 'Sep 2016', 'Sep 2016', 'Sep 2016', 'Sep 2016', 'Sep 2016', 'Aug 2016', 'Aug 2016', 'Aug 2016', 'Aug 2016', 'Aug 2016', 'Aug 2016', 'Aug 2016', 'Aug 2016', 'Aug 2016', 'Aug 2016', 'Aug 2016', 'Aug 2016', 'Aug 2016', 'Aug 2016', 'Aug 2016', 'Aug 2016', 'Aug 2016', 'Aug 2016', 'Jul 2016', 'Jul 2016']\n"
     ]
    }
   ],
   "source": [
    "talk_month = [tl.find(\"div\", {\"class\":\"meta\"}).find(\"span\", {\"class\":\"meta__val\"}).get_text().strip() for tl in talk_link]\n",
    "print(talk_month)"
   ]
  },
  {
   "cell_type": "markdown",
   "metadata": {},
   "source": [
    "### 年月をdatetime型に変換"
   ]
  },
  {
   "cell_type": "code",
   "execution_count": 8,
   "metadata": {
    "ExecuteTime": {
     "end_time": "2016-09-26T19:21:29.769065",
     "start_time": "2016-09-26T19:21:29.742334"
    },
    "collapsed": false
   },
   "outputs": [
    {
     "name": "stdout",
     "output_type": "stream",
     "text": [
      "['2016-09-01', '2016-09-01', '2016-09-01', '2016-09-01', '2016-09-01', '2016-09-01', '2016-09-01', '2016-09-01', '2016-09-01', '2016-09-01', '2016-09-01', '2016-09-01', '2016-09-01', '2016-09-01', '2016-09-01', '2016-09-01', '2016-08-01', '2016-08-01', '2016-08-01', '2016-08-01', '2016-08-01', '2016-08-01', '2016-08-01', '2016-08-01', '2016-08-01', '2016-08-01', '2016-08-01', '2016-08-01', '2016-08-01', '2016-08-01', '2016-08-01', '2016-08-01', '2016-08-01', '2016-08-01', '2016-07-01', '2016-07-01']\n"
     ]
    }
   ],
   "source": [
    "talk_datetime = []\n",
    "for tm in talk_month:\n",
    "    tdatetime = datetime.datetime.strptime(tm, \"%b %Y\")\n",
    "    tdatetime = tdatetime.strftime(\"%Y-%m-%d\")\n",
    "    talk_datetime.append(tdatetime)\n",
    "\n",
    "print(talk_datetime)"
   ]
  },
  {
   "cell_type": "markdown",
   "metadata": {},
   "source": [
    "### 1ページ目で取得したトークへのリンクアドレスをまとめる"
   ]
  },
  {
   "cell_type": "code",
   "execution_count": 9,
   "metadata": {
    "ExecuteTime": {
     "end_time": "2016-09-26T19:21:29.787827",
     "start_time": "2016-09-26T19:21:29.772598"
    },
    "collapsed": true
   },
   "outputs": [],
   "source": [
    "all_talk_link_address = []\n",
    "for talk_address in talk_addresses:\n",
    "    all_talk_link_address.append(talk_address)"
   ]
  },
  {
   "cell_type": "markdown",
   "metadata": {},
   "source": [
    "### 次のページ（2ページ目）のトーク一覧を取得する"
   ]
  },
  {
   "cell_type": "code",
   "execution_count": 10,
   "metadata": {
    "ExecuteTime": {
     "end_time": "2016-09-26T19:21:29.856555",
     "start_time": "2016-09-26T19:21:29.792708"
    },
    "collapsed": false
   },
   "outputs": [],
   "source": [
    "pagination_div = soup.find(\"div\", {\"class\" : \"pagination\"})"
   ]
  },
  {
   "cell_type": "code",
   "execution_count": 11,
   "metadata": {
    "ExecuteTime": {
     "end_time": "2016-09-26T19:21:29.879146",
     "start_time": "2016-09-26T19:21:29.863544"
    },
    "collapsed": false
   },
   "outputs": [
    {
     "name": "stdout",
     "output_type": "stream",
     "text": [
      "https://www.ted.com/talks?language=en&page=2\n"
     ]
    }
   ],
   "source": [
    "next_link_a = pagination_div.find(\"a\", {\"class\", \"pagination__next\"})\n",
    "next_link = next_link_a.attrs['href']\n",
    "next_link = urljoin(base_url, next_link)\n",
    "print(next_link)"
   ]
  },
  {
   "cell_type": "code",
   "execution_count": 12,
   "metadata": {
    "ExecuteTime": {
     "end_time": "2016-09-26T19:21:31.427727",
     "start_time": "2016-09-26T19:21:29.883773"
    },
    "collapsed": false,
    "scrolled": true
   },
   "outputs": [
    {
     "name": "stdout",
     "output_type": "stream",
     "text": [
      "page: 3\n"
     ]
    }
   ],
   "source": [
    "page_counter = 3\n",
    "while True:\n",
    "    target_url = next_link\n",
    "    html = urlopen(target_url)\n",
    "    soup = BeautifulSoup(html.read(), \"lxml\")\n",
    "    \n",
    "    talk_link = soup.find_all(\"div\", {\"class\" : \"talk-link\"})\n",
    "    talk_addresses = [tl.find(\"h4\", {\"class\": \"h9\"}).find(\"a\").attrs['href'] for tl in talk_link]\n",
    "    talk_addresses = [urljoin(base_url, talk_address) for talk_address in talk_addresses]\n",
    "    \n",
    "    print(\"page: %d\" % page_counter)\n",
    "#     for talk_address in talk_addresses:\n",
    "#         print(talk_address)\n",
    "    \n",
    "    # リンクアドレスを追加\n",
    "    for talk_address in talk_addresses:\n",
    "        all_talk_link_address.append(talk_address)\n",
    "    \n",
    "    # 次のページを取得する\n",
    "    pagination_div = soup.find(\"div\", {\"class\" : \"pagination\"})\n",
    "    next_link_a = pagination_div.find(\"a\", {\"class\", \"pagination__next\"})\n",
    "\n",
    "    # もし次のページが存在しない場合は終了\n",
    "# DEBUG\n",
    "#     if next_link_a is None:\n",
    "#         break\n",
    "        \n",
    "    if next_link:\n",
    "        break\n",
    "\n",
    "    next_link = next_link_a.attrs['href']\n",
    "    next_link = urljoin(base_url, next_link)\n",
    "    print(next_link)\n",
    "\n",
    "    page_counter += 1\n",
    "    time.sleep(2)"
   ]
  },
  {
   "cell_type": "markdown",
   "metadata": {},
   "source": [
    "## トークのトピックを取得する"
   ]
  },
  {
   "cell_type": "markdown",
   "metadata": {},
   "source": [
    "### 1番目のトークについてトピックを取得してみる"
   ]
  },
  {
   "cell_type": "code",
   "execution_count": 13,
   "metadata": {
    "ExecuteTime": {
     "end_time": "2016-09-26T19:21:31.442367",
     "start_time": "2016-09-26T19:21:31.430914"
    },
    "collapsed": false
   },
   "outputs": [
    {
     "name": "stdout",
     "output_type": "stream",
     "text": [
      "https://www.ted.com/talks/rebecca_mackinnon_we_can_fight_terror_without_sacrificing_our_rights?language=en\n"
     ]
    }
   ],
   "source": [
    "target_talk_url = all_talk_link_address[0]\n",
    "print(target_talk_url)"
   ]
  },
  {
   "cell_type": "code",
   "execution_count": 14,
   "metadata": {
    "ExecuteTime": {
     "end_time": "2016-09-26T19:21:32.725672",
     "start_time": "2016-09-26T19:21:31.447804"
    },
    "collapsed": true
   },
   "outputs": [],
   "source": [
    "html = urlopen(target_talk_url)\n",
    "soup = BeautifulSoup(html.read(), \"lxml\")"
   ]
  },
  {
   "cell_type": "code",
   "execution_count": 15,
   "metadata": {
    "ExecuteTime": {
     "end_time": "2016-09-26T19:21:32.746891",
     "start_time": "2016-09-26T19:21:32.728002"
    },
    "collapsed": false
   },
   "outputs": [],
   "source": [
    "talk_topics_div = soup.find(\"div\", {\"class\": \"talk-topics\"})"
   ]
  },
  {
   "cell_type": "code",
   "execution_count": 16,
   "metadata": {
    "ExecuteTime": {
     "end_time": "2016-09-26T19:21:32.789210",
     "start_time": "2016-09-26T19:21:32.749960"
    },
    "collapsed": false
   },
   "outputs": [
    {
     "data": {
      "text/plain": [
       "bs4.element.ResultSet"
      ]
     },
     "execution_count": 16,
     "metadata": {},
     "output_type": "execute_result"
    }
   ],
   "source": [
    "talk_topics_items = talk_topics_div.find_all(\"li\", {\"class\":\"talk-topics__item\"})\n",
    "type(talk_topics_items)"
   ]
  },
  {
   "cell_type": "code",
   "execution_count": 17,
   "metadata": {
    "ExecuteTime": {
     "end_time": "2016-09-26T19:21:32.808042",
     "start_time": "2016-09-26T19:21:32.794069"
    },
    "collapsed": false
   },
   "outputs": [
    {
     "name": "stdout",
     "output_type": "stream",
     "text": [
      "Internet\n",
      "Middle East\n",
      "Communication\n",
      "Democracy\n",
      "Global issues\n",
      "Privacy\n",
      "Protests\n",
      "Security\n",
      "Social media\n",
      "Society\n",
      "Technology\n",
      "Terrorism\n",
      "Violence\n",
      "War\n",
      "Web\n"
     ]
    }
   ],
   "source": [
    "topic_list = []\n",
    "for tti in talk_topics_items:\n",
    "    topic = tti.find(\"a\")\n",
    "    if topic is not None:\n",
    "        topic_str = topic.get_text().replace(\"\\n\",\"\")\n",
    "        print(topic_str)\n",
    "        topic_list.append(topic_str)"
   ]
  },
  {
   "cell_type": "markdown",
   "metadata": {},
   "source": [
    "## トークのTranscrpitを取得する"
   ]
  },
  {
   "cell_type": "code",
   "execution_count": 18,
   "metadata": {
    "ExecuteTime": {
     "end_time": "2016-09-26T19:21:32.825154",
     "start_time": "2016-09-26T19:21:32.811550"
    },
    "collapsed": false
   },
   "outputs": [
    {
     "name": "stdout",
     "output_type": "stream",
     "text": [
      "https://www.ted.com/talks/rebecca_mackinnon_we_can_fight_terror_without_sacrificing_our_rights/transcript?language=en\n"
     ]
    }
   ],
   "source": [
    "target_transcrpit_url = target_talk_url.replace(\"?language=en\", \"/transcript?language=en\")\n",
    "print(target_transcrpit_url)"
   ]
  },
  {
   "cell_type": "code",
   "execution_count": 19,
   "metadata": {
    "ExecuteTime": {
     "end_time": "2016-09-26T19:21:34.414632",
     "start_time": "2016-09-26T19:21:32.828052"
    },
    "collapsed": true
   },
   "outputs": [],
   "source": [
    "html = urlopen(target_transcrpit_url)\n",
    "soup = BeautifulSoup(html.read(), \"lxml\")"
   ]
  },
  {
   "cell_type": "code",
   "execution_count": 20,
   "metadata": {
    "ExecuteTime": {
     "end_time": "2016-09-26T19:21:34.438420",
     "start_time": "2016-09-26T19:21:34.417354"
    },
    "collapsed": false
   },
   "outputs": [],
   "source": [
    "talk_transcrpit_para = soup.find_all(\"p\", {\"class\": \"talk-transcript__para\"})"
   ]
  },
  {
   "cell_type": "code",
   "execution_count": 21,
   "metadata": {
    "ExecuteTime": {
     "end_time": "2016-09-26T19:21:34.462969",
     "start_time": "2016-09-26T19:21:34.441370"
    },
    "collapsed": false
   },
   "outputs": [
    {
     "name": "stdout",
     "output_type": "stream",
     "text": [
      "There's a big questionat the center of lifein our democracies today:How do we fight terrorwithout destroying democracies,without trampling human rights?\n",
      "I've spent much of my careerworking with journalists,with bloggers,with activists,with human rights researchersall around the world,and I've come to the conclusionthat if our democratic societiesdo not double downon protecting and defending human rights,freedom of the pressand a free and open internet,radical extremist ideologiesare much more likely to persist.\n",
      "(Applause)\n",
      "OK, all done. Thank you very much.No, just joking.\n",
      "(Laughter)\n",
      "I actually want to drill downon this a little bit.\n",
      "So, one of the countries that has beenon the frontlines of this issueis Tunisia,which was the only countryto come out of the Arab Springwith a successful democratic revolution.Five years later,they're strugglingwith serious terror attacksand rampant ISIS recruitment.And many Tunisiansare calling on their governmentto do whatever it takes to keep them safe.\n",
      "Tunisian cartoonist Nadia Khiarihas summed up the situationwith this character who says,\"I don't give a damn about human rights.I don't give a damn about the revolution.I don't give a damnabout democracy and liberty.I just want to be safe.\"\n",
      "\"Satisfied?\" asked his jailer.\"You're safe now.\"\n",
      "If the Tunisian people can figure outhow to deal with their terrorism problemwithout ending up in this place,they will be a modelnot only for their region,but for all of us.\n",
      "The reality is that civil society,journalists and activistsare coming under attackfrom extremist groups on the one hand,and, in many countries,also from their own governments.We're seeing bloggersand journalists being jailed,charged and intimidatedby their own governments,many of which are allieswith the West in the war on terror.\n",
      "Just three examples.A friend and former colleague of mine,Hisham Almiraat,has been chargedwith threatening state security,along with six other activists in Morocco.The Saudi blogger Raif Badawihas been jailed and floggedfor insulting Islam and criticizingthe Saudi regime on his blog.More recently, the Turkish representativefor Reporters Without Borders,Erol Önderoglu,has been detained and chargedwith spreading terrorist propaganda,because he and some other activistshave been supporting Kurdish media.\n",
      "Anti-terror measuresquickly turn into state repressionwithout strong protectionfor minority communitiesand for peaceful debate;this needs to be supportedby a robust, independent local media.\n",
      "But while that's not really happening,Washington is teaming upwith Silicon Valley and with Hollywoodto pour millions -- hundredsof millions of dollars --into what's called \"counter-messaging,\"a fancy word for propaganda.To counter the terrorist propagandaspreading all over the internet,in Europe, Internet ReferralUnits are being set up,so that people can reporton extremist content that they findand get it censored.The problem is,that all of this propaganda,monitoring and censorshipcompletely fails to make up for the factthat the people who arethe most credible voices,who can present credible ideasand alternative solutionsto real economic, social and politicalproblems in their communitythat are causing people to turnto extremism in the first place,are being silencedby their own governments.\n",
      "This is all adding up to a decreasein freedom across the world.Freedom House,the human rights organization,reports that 2015 marksthe 10th straight year in a rowof decline in freedom worldwide.And this is not justbecause of the actionsof authoritarian governments.It's also because democratic governmentsare increasingly crackingdown on dissenters,whistle-blowersand investigative journalists.UN Secretary GeneralBan Ki-Moon has warnedthat \"preventing extremism and promotinghuman rights go hand-in-hand.\"It's not to say that governmentsshouldn't keep us safe --of course they should --but we need public oversight, transparencyand accountability to the rule of law.Meanwhile,extremists are literally killing offcivil society in some countries.Since 2013 in Bangladesh,over a dozen secular bloggersand community activistshave been literallyslaughtered by extremistswhile the government has done very little.From the city of Raqqa in Syria,people like Ruqia Hassan and Naji Jerfhave been assassinatedfor their reportingout of ISIS-controlled territory.\n",
      "The citizen media group calledRaqqa is Being Slaughtered Silentlyrelies on strong encryptionto send out their reportsand shield themselvesfrom interception and surveillance.Yet authorities in countrieslike the United States,the United Kingdomand many other democraciesare seeking to use the lawto either weaken or outright banstrong encryption,because the bad guys are using it, too.We have got to fight for the rightof citizens to use strong encryption.Otherwise, dissentand investigative journalismare going to become even more difficultin even more places.And the bad guys -- the criminalsand terrorists --are still going to findways to communicate.Kudos to the companiesthat are standing upfor their users' right to use encryption.\n",
      "But when it comes to censorship,the picture is much more troubling.Yes, there's a real problemof extremist contentspreading all over the internet.And Facebook, YouTube and Twitterare among the many companieswho report having taken down hundredsof thousands of pieces of contentand deactivating accountsthat are connectedto the extremist's speech.The problem is their enforcementmechanisms are a complete black box,and there is collateral damage.\n",
      "Take, for example, Iyad el-Baghdadi,an activist who makes funof ISIS on Twitter.He had his account deactivated,because he shares a surnamewith a prominent ISIS leader.Last December,a number of women named Isis,which also happens to bethe name of an Egyptian goddess,had their accounts deactivated.And this woman,who lives in the United Statesand is a computer programmer,reported on Twitterabout her deactivation on Facebook,managed to get enough media attentionto have her account reinstated.But that's the thing --she had to get media attention.And journalists aren't immune.David Thomson,an expert on terrorism and reporterfor Radio France International,had reports deletedfrom his Facebook accountand had his accountdeactivated for several days,because they containedpictures of ISIS flags,even though he was just reporting on ISIS,not promoting it.\n",
      "And then we have stories from peoplelike this Egyptian man,Ahmed Abdellahy,who reported recently in an eventin Washington DCthat some of his argumentswith extremists --he now spends his time on social mediaarguing with ISIS followers,trying to get them to turn away --some of his argumentswith these extremists get deleted,which he believes has the effectof shielding themfrom alternative points of view.\n",
      "It's unclear whether Facebookeven knows the extentof the collateral damage,or the other companies as well.But we do know that journalism,activism and public debateare being silenced in the effortto stamp out extremist speech.\n",
      "So with these companies having so muchpower over the public discourse,they need to be held accountable.They need to carry out impact assessmentto identify and fix the problemsthat we're clearly seeing.They need to be more transparentabout their enforcement mechanisms,and they need to have clearappeal and grievance mechanisms,so people can gettheir content reinstated.\n",
      "Now, I've been talkingfor the last 10 minutesabout how governments and companiesare making it more difficultfor people like these.This is a picture of membersof the citizen media network,Global Voices,that I helped to cofound over 10 years agowith my friend, Ethan Zuckerman.Interestingly, about 5 years ago,right after the Arab Spring,the data scientist Gilad Lotancreated a network mapof the people in Global Voiceswho were heavy users of Twitterduring the Arab Spring.And he found that many of these peopleserved as key information nodesbetween activists and journaliststhroughout the Tunisianand Egyptian revolution.We've got to make surethat these people not only survive,but are able to continue to thrive.Many of them are still active,other than the ones who have gone to jailor have been driven into hiding or exile.\n",
      "All around the world,people who are sick and tiredof fear and oppressionare linking up in their communitiesand across borders.We've got to do everything we canto push our governments and companiesto do a better jobof protecting their rights.We've also got to be more mindfulabout how our own personal, political,consumer and business choicesaffect people like these around the world.Also, if you follow the news,it's pretty clear that that aloneisn't going to be enough.We've got to take personalresponsibility by joining --or at very least, actively supporting --the growing ecosystemof individuals and groupswho are fighting for social justice,environmental sustainability,government accountability,human rights, freedom of the pressand a free and open internet,all around the world.\n",
      "I believe that, ultimately,we can overcomethe digitally empowered networksof extremism, demagoguery and hate.But ...we've got to do this by reallybeefing up the global networksof citizens around the world,powered by peoplewho are working hard every day,and taking personal riskfor a future world that is morepeaceful, just, open and free.\n",
      "Thanks very much for listening.\n",
      "(Applause)\n"
     ]
    }
   ],
   "source": [
    "for ttp in talk_transcrpit_para:\n",
    "    transcript_text = ttp.find(\"span\", {\"class\": \"talk-transcript__para__text\"})\n",
    "    print(transcript_text.get_text().replace(\"\\n\",\"\"))"
   ]
  },
  {
   "cell_type": "markdown",
   "metadata": {},
   "source": [
    "## TED Talksで利用できる言語を取得してみる\n",
    "\n",
    "https://www.ted.com/participate/translate/our-languages"
   ]
  },
  {
   "cell_type": "code",
   "execution_count": 22,
   "metadata": {
    "ExecuteTime": {
     "end_time": "2016-09-26T19:21:34.474641",
     "start_time": "2016-09-26T19:21:34.468557"
    },
    "collapsed": true
   },
   "outputs": [],
   "source": [
    "LANG_URL = \"https://www.ted.com/participate/translate/our-languages\""
   ]
  },
  {
   "cell_type": "code",
   "execution_count": 23,
   "metadata": {
    "ExecuteTime": {
     "end_time": "2016-09-26T19:21:35.523571",
     "start_time": "2016-09-26T19:21:34.480629"
    },
    "collapsed": true
   },
   "outputs": [],
   "source": [
    "html = urlopen(LANG_URL)\n",
    "soup = BeautifulSoup(html.read(), \"lxml\")"
   ]
  },
  {
   "cell_type": "code",
   "execution_count": 24,
   "metadata": {
    "ExecuteTime": {
     "end_time": "2016-09-26T19:21:35.561453",
     "start_time": "2016-09-26T19:21:35.526229"
    },
    "collapsed": false
   },
   "outputs": [],
   "source": [
    "lang_div = soup.find_all(\"div\", {\"class\":\"languages__list__language\"})"
   ]
  },
  {
   "cell_type": "code",
   "execution_count": 25,
   "metadata": {
    "ExecuteTime": {
     "end_time": "2016-09-26T19:21:35.604772",
     "start_time": "2016-09-26T19:21:35.564748"
    },
    "collapsed": false
   },
   "outputs": [
    {
     "name": "stdout",
     "output_type": "stream",
     "text": [
      "lang type: Afrikaans                 symbol: af    23    talks\n",
      "lang type: Albanian                  symbol: sq    627   talks\n",
      "lang type: Algerian Arabic           symbol: arq   9     talks\n",
      "lang type: Amharic                   symbol: am    13    talks\n",
      "lang type: Arabic                    symbol: ar    2157  talks\n",
      "lang type: Armenian                  symbol: hy    306   talks\n",
      "lang type: Assamese                  symbol: as    1     talks\n",
      "lang type: Asturian                  symbol: ast   2     talks\n",
      "lang type: Azerbaijani               symbol: az    108   talks\n",
      "lang type: Basque                    symbol: eu    53    talks\n",
      "lang type: Belarusian                symbol: be    71    talks\n",
      "lang type: Bengali                   symbol: bn    90    talks\n",
      "lang type: Bislama                   symbol: bi    1     talks\n",
      "lang type: Bosnian                   symbol: bs    83    talks\n",
      "lang type: Bulgarian                 symbol: bg    1794  talks\n",
      "lang type: Burmese                   symbol: my    371   talks\n",
      "lang type: Catalan                   symbol: ca    410   talks\n",
      "lang type: Cebuano                   symbol: ceb   3     talks\n",
      "lang type: Chinese, Simplified       symbol: zh-cn 2148  talks\n",
      "lang type: Chinese, Traditional      symbol: zh-tw 2143  talks\n",
      "lang type: Chinese, Yue              symbol: zh    133   talks\n",
      "lang type: Creole, Haitian           symbol: ht    3     talks\n",
      "lang type: Croatian                  symbol: hr    1367  talks\n",
      "lang type: Czech                     symbol: cs    1247  talks\n",
      "lang type: Danish                    symbol: da    556   talks\n",
      "lang type: Dutch                     symbol: nl    2032  talks\n",
      "lang type: Dzongkha                  symbol: dz    1     talks\n",
      "lang type: English                   symbol: en    2289  talks\n",
      "lang type: Esperanto                 symbol: eo    104   talks\n",
      "lang type: Estonian                  symbol: et    142   talks\n",
      "lang type: Filipino                  symbol: fil   43    talks\n",
      "lang type: Finnish                   symbol: fi    312   talks\n",
      "lang type: French                    symbol: fr    2159  talks\n",
      "lang type: French (Canada)           symbol: fr-ca 321   talks\n",
      "lang type: Galician                  symbol: gl    137   talks\n",
      "lang type: Georgian                  symbol: ka    164   talks\n",
      "lang type: German                    symbol: de    1947  talks\n",
      "lang type: Greek                     symbol: el    1750  talks\n",
      "lang type: Gujarati                  symbol: gu    28    talks\n",
      "lang type: Hakha Chin                symbol: cnh   1     talks\n",
      "lang type: Hausa                     symbol: ha    1     talks\n",
      "lang type: Hebrew                    symbol: he    2173  talks\n",
      "lang type: Hindi                     symbol: hi    269   talks\n",
      "lang type: Hungarian                 symbol: hu    1636  talks\n",
      "lang type: Hupa                      symbol: hup   1     talks\n",
      "lang type: Icelandic                 symbol: is    15    talks\n",
      "lang type: Igbo                      symbol: ig    1     talks\n",
      "lang type: Indonesian                symbol: id    1138  talks\n",
      "lang type: Ingush                    symbol: inh   1     talks\n",
      "lang type: Irish                     symbol: ga    3     talks\n",
      "lang type: Italian                   symbol: it    2160  talks\n",
      "lang type: Japanese                  symbol: ja    2126  talks\n",
      "lang type: Kannada                   symbol: kn    13    talks\n",
      "lang type: Kazakh                    symbol: kk    71    talks\n",
      "lang type: Khmer                     symbol: km    3     talks\n",
      "lang type: Klingon                   symbol: tlh   1     talks\n",
      "lang type: Korean                    symbol: ko    2169  talks\n",
      "lang type: Kurdish                   symbol: ku    156   talks\n",
      "lang type: Kyrgyz                    symbol: ky    9     talks\n",
      "lang type: Lao                       symbol: lo    3     talks\n",
      "lang type: Latgalian                 symbol: ltg   3     talks\n",
      "lang type: Latin                     symbol: la    1     talks\n",
      "lang type: Latvian                   symbol: lv    371   talks\n",
      "lang type: Lithuanian                symbol: lt    591   talks\n",
      "lang type: Luxembourgish             symbol: lb    2     talks\n",
      "lang type: Macedo                    symbol: rup   11    talks\n",
      "lang type: Macedonian                symbol: mk    320   talks\n",
      "lang type: Malagasy                  symbol: mg    6     talks\n",
      "lang type: Malay                     symbol: ms    107   talks\n",
      "lang type: Malayalam                 symbol: ml    31    talks\n",
      "lang type: Maltese                   symbol: mt    2     talks\n",
      "lang type: Marathi                   symbol: mr    135   talks\n",
      "lang type: Mauritian Creole          symbol: mfe   1     talks\n",
      "lang type: Mongolian                 symbol: mn    144   talks\n",
      "lang type: Montenegrin               symbol: srp   24    talks\n",
      "lang type: Nepali                    symbol: ne    36    talks\n",
      "lang type: Norwegian Bokmal          symbol: nb    228   talks\n",
      "lang type: Norwegian Nynorsk         symbol: nn    13    talks\n",
      "lang type: Occitan                   symbol: oc    1     talks\n",
      "lang type: Pashto                    symbol: ps    4     talks\n",
      "lang type: Persian                   symbol: fa    1670  talks\n",
      "lang type: Polish                    symbol: pl    1916  talks\n",
      "lang type: Portuguese                symbol: pt    1700  talks\n",
      "lang type: Portuguese, Brazilian     symbol: pt-br 2173  talks\n",
      "lang type: Punjabi                   symbol: pa    3     talks\n",
      "lang type: Romanian                  symbol: ro    2033  talks\n",
      "lang type: Russian                   symbol: ru    2169  talks\n",
      "lang type: Rusyn                     symbol: ry    1     talks\n",
      "lang type: Serbian                   symbol: sr    1665  talks\n",
      "lang type: Serbo-Croatian            symbol: sh    15    talks\n",
      "lang type: Silesian                  symbol: szl   1     talks\n",
      "lang type: Sinhala                   symbol: si    10    talks\n",
      "lang type: Slovak                    symbol: sk    861   talks\n",
      "lang type: Slovenian                 symbol: sl    334   talks\n",
      "lang type: Somali                    symbol: so    20    talks\n",
      "lang type: Spanish                   symbol: es    2173  talks\n",
      "lang type: Swahili                   symbol: sw    33    talks\n",
      "lang type: Swedish                   symbol: sv    821   talks\n",
      "lang type: Swedish Chef              symbol: art-x-bork 1     talks\n",
      "lang type: Tagalog                   symbol: tl    19    talks\n",
      "lang type: Tajik                     symbol: tg    11    talks\n",
      "lang type: Tamil                     symbol: ta    104   talks\n",
      "lang type: Tatar                     symbol: tt    6     talks\n",
      "lang type: Telugu                    symbol: te    36    talks\n",
      "lang type: Thai                      symbol: th    1097  talks\n",
      "lang type: Tibetan                   symbol: bo    14    talks\n",
      "lang type: Turkish                   symbol: tr    1963  talks\n",
      "lang type: Ukrainian                 symbol: uk    1308  talks\n",
      "lang type: Urdu                      symbol: ur    120   talks\n",
      "lang type: Uyghur                    symbol: ug    18    talks\n",
      "lang type: Uzbek                     symbol: uz    44    talks\n",
      "lang type: Vietnamese                symbol: vi    1927  talks\n"
     ]
    }
   ],
   "source": [
    "lang_info = []\n",
    "for ld in lang_div:\n",
    "    lang_type = ld.find(\"a\").get_text()\n",
    "    lang_symbol = ld.find(\"a\").attrs['href'].replace(\"/talks?language=\", \"\")\n",
    "    lang_talks = ld.get_text().replace(\"\\n\", \"\").replace(lang_type, \"\")\n",
    "    lang_talks = re.match(\"\\d*\", lang_talks)\n",
    "    lang_talks = lang_talks.group()\n",
    "    \n",
    "    print(\"lang type: %-25s symbol: %-5s %-5s talks\" % (lang_type, lang_symbol, lang_talks))"
   ]
  }
 ],
 "metadata": {
  "anaconda-cloud": {},
  "kernelspec": {
   "display_name": "Python [default]",
   "language": "python",
   "name": "python3"
  },
  "language_info": {
   "codemirror_mode": {
    "name": "ipython",
    "version": 3
   },
   "file_extension": ".py",
   "mimetype": "text/x-python",
   "name": "python",
   "nbconvert_exporter": "python",
   "pygments_lexer": "ipython3",
   "version": "3.5.2"
  }
 },
 "nbformat": 4,
 "nbformat_minor": 1
}
