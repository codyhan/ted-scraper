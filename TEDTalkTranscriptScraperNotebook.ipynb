{
 "cells": [
  {
   "cell_type": "markdown",
   "metadata": {},
   "source": [
    "# TED Talks Transcript Scraper Notebook"
   ]
  },
  {
   "cell_type": "code",
   "execution_count": 1,
   "metadata": {
    "ExecuteTime": {
     "end_time": "2016-09-25T22:23:54.669886",
     "start_time": "2016-09-25T22:23:54.632871"
    },
    "collapsed": false
   },
   "outputs": [],
   "source": [
    "from bs4 import BeautifulSoup\n",
    "from urllib.request import urlopen\n",
    "from urllib.parse import urljoin\n",
    "import time"
   ]
  },
  {
   "cell_type": "markdown",
   "metadata": {},
   "source": [
    "## データ構造\n",
    "\n",
    "```json\n",
    "{\n",
    "    \"Talk Title\" : \"hoge\", \n",
    "    \"Talk Link Address\" : \"https://www.tad.com/talks/hoge?language=en\", \n",
    "    \"Language\" : \"en\", \n",
    "    \"Topics\" : [\"topic1\". \"topic2\", \"topic3\"],\n",
    "    \"Transcript Text\" : [\"sentence1\", \"sentence2\", \"sentence3\"]\n",
    "}\n",
    "```"
   ]
  },
  {
   "cell_type": "markdown",
   "metadata": {},
   "source": [
    "## すべてのトークのリンクアドレスを取得する"
   ]
  },
  {
   "cell_type": "markdown",
   "metadata": {},
   "source": [
    "### 1ページ目の各トーク一覧について、トークへのリンクを取得する\n",
    "\n",
    "https://www.ted.com/talks"
   ]
  },
  {
   "cell_type": "code",
   "execution_count": 2,
   "metadata": {
    "ExecuteTime": {
     "end_time": "2016-09-25T22:23:55.642103",
     "start_time": "2016-09-25T22:23:54.671651"
    },
    "collapsed": false
   },
   "outputs": [],
   "source": [
    "base_url = \"https://www.ted.com/talks\"\n",
    "target_url = base_url + \"?language=\" + \"en\"\n",
    "html = urlopen(target_url)\n",
    "\n",
    "soup = BeautifulSoup(html.read(), \"lxml\")\n",
    "talk_link = soup.find_all(\"div\", {\"class\": \"talk-link\"})"
   ]
  },
  {
   "cell_type": "code",
   "execution_count": 3,
   "metadata": {
    "ExecuteTime": {
     "end_time": "2016-09-25T22:23:55.664655",
     "start_time": "2016-09-25T22:23:55.644281"
    },
    "collapsed": false
   },
   "outputs": [],
   "source": [
    "talk_addresses = [tl.find(\"h4\", {\"class\": \"h9\"}).find(\"a\").attrs['href'] for tl in talk_link]"
   ]
  },
  {
   "cell_type": "markdown",
   "metadata": {},
   "source": [
    "### Talkへの相対アドレスを絶対アドレスに変更"
   ]
  },
  {
   "cell_type": "code",
   "execution_count": 4,
   "metadata": {
    "ExecuteTime": {
     "end_time": "2016-09-25T22:23:55.673383",
     "start_time": "2016-09-25T22:23:55.666809"
    },
    "collapsed": false,
    "scrolled": true
   },
   "outputs": [
    {
     "name": "stdout",
     "output_type": "stream",
     "text": [
      "https://www.ted.com/talks/rebecca_mackinnon_we_can_fight_terror_without_sacrificing_our_rights?language=en\n",
      "https://www.ted.com/talks/sebastian_kraves_the_era_of_personal_dna_testing_is_here?language=en\n",
      "https://www.ted.com/talks/nadia_lopez_why_open_a_school_to_close_a_prison?language=en\n",
      "https://www.ted.com/talks/david_burkus_why_you_should_know_how_much_your_coworkers_get_paid?language=en\n",
      "https://www.ted.com/talks/eric_liu_let_s_make_voting_fun_again?language=en\n",
      "https://www.ted.com/talks/abigail_marsh_why_some_people_are_more_altruistic_than_others?language=en\n",
      "https://www.ted.com/talks/michael_murphy_architecture_that_s_built_to_heal?language=en\n",
      "https://www.ted.com/talks/michael_shellenberger_how_fear_of_nuclear_power_is_hurting_the_environment?language=en\n",
      "https://www.ted.com/talks/julie_lythcott_haims_how_to_raise_successful_kids_without_over_parenting?language=en\n",
      "https://www.ted.com/talks/neha_narula_the_future_of_money?language=en\n",
      "https://www.ted.com/talks/franz_freudenthal_a_new_way_to_heal_hearts_without_surgery?language=en\n",
      "https://www.ted.com/talks/david_camarillo_why_helmets_don_t_prevent_concussions_and_what_might?language=en\n",
      "https://www.ted.com/talks/courtney_martin_the_new_american_dream?language=en\n",
      "https://www.ted.com/talks/sal_khan_let_s_teach_for_mastery_not_test_scores?language=en\n",
      "https://www.ted.com/talks/james_veitch_the_agony_of_trying_to_unsubscribe?language=en\n",
      "https://www.ted.com/talks/jonathan_tepperman_the_risky_politics_of_progress?language=en\n",
      "https://www.ted.com/talks/kio_stark_why_you_should_talk_to_strangers?language=en\n",
      "https://www.ted.com/talks/christopher_bell_bring_on_the_female_superheroes?language=en\n",
      "https://www.ted.com/talks/julia_bacha_how_women_wage_conflict_without_violence?language=en\n",
      "https://www.ted.com/talks/vanessa_ruiz_the_spellbinding_art_of_human_anatomy?language=en\n",
      "https://www.ted.com/talks/don_tapscott_how_the_blockchain_is_changing_money_and_business?language=en\n",
      "https://www.ted.com/talks/laura_boushnak_the_deadly_legacy_of_cluster_bombs?language=en\n",
      "https://www.ted.com/talks/timothy_ihrig_what_we_can_do_to_die_well?language=en\n",
      "https://www.ted.com/talks/olivier_scalabre_the_next_manufacturing_revolution_is_here?language=en\n",
      "https://www.ted.com/talks/gonzalo_vilarino_how_argentina_s_blind_soccer_team_became_champions?language=en\n",
      "https://www.ted.com/talks/anand_giridharadas_a_letter_to_all_who_have_lost_in_this_era?language=en\n",
      "https://www.ted.com/talks/sarah_parcak_hunting_for_peru_s_lost_civilizations_with_satellites?language=en\n",
      "https://www.ted.com/talks/james_green_3_moons_and_a_planet_that_could_have_alien_life?language=en\n",
      "https://www.ted.com/talks/monica_araya_a_small_country_with_big_ideas_to_get_rid_of_fossil_fuels?language=en\n",
      "https://www.ted.com/talks/dave_brain_what_a_planet_needs_to_sustain_life?language=en\n",
      "https://www.ted.com/talks/ngozi_okonjo_iweala_how_africa_can_keep_rising?language=en\n",
      "https://www.ted.com/talks/molly_winter_the_taboo_secret_to_healthier_plants_and_people?language=en\n",
      "https://www.ted.com/talks/martin_reeves_how_to_build_a_business_that_lasts_100_years?language=en\n",
      "https://www.ted.com/talks/anthony_goldbloom_the_jobs_we_ll_lose_to_machines_and_the_ones_we_won_t?language=en\n",
      "https://www.ted.com/talks/suzanne_simard_how_trees_talk_to_each_other?language=en\n",
      "https://www.ted.com/talks/ed_boyden_baby_diapers_inspired_this_new_way_to_study_the_brain?language=en\n"
     ]
    }
   ],
   "source": [
    "talk_addresses = [urljoin(base_url, talk_address) for talk_address in talk_addresses]\n",
    "for talk_address in talk_addresses:\n",
    "    print(talk_address)"
   ]
  },
  {
   "cell_type": "markdown",
   "metadata": {},
   "source": [
    "### 1ページ目で取得したトークへのリンクアドレスをまとめる"
   ]
  },
  {
   "cell_type": "code",
   "execution_count": 5,
   "metadata": {
    "ExecuteTime": {
     "end_time": "2016-09-25T22:23:55.684832",
     "start_time": "2016-09-25T22:23:55.676026"
    },
    "collapsed": true
   },
   "outputs": [],
   "source": [
    "all_talk_link_address = []\n",
    "for talk_address in talk_addresses:\n",
    "    all_talk_link_address.append(talk_address)"
   ]
  },
  {
   "cell_type": "markdown",
   "metadata": {},
   "source": [
    "### 次のページ（2ページ目）のトーク一覧を取得する"
   ]
  },
  {
   "cell_type": "code",
   "execution_count": 6,
   "metadata": {
    "ExecuteTime": {
     "end_time": "2016-09-25T22:23:55.724216",
     "start_time": "2016-09-25T22:23:55.686567"
    },
    "collapsed": false
   },
   "outputs": [],
   "source": [
    "pagination_div = soup.find(\"div\", {\"class\" : \"pagination\"})"
   ]
  },
  {
   "cell_type": "code",
   "execution_count": 7,
   "metadata": {
    "ExecuteTime": {
     "end_time": "2016-09-25T22:23:55.732956",
     "start_time": "2016-09-25T22:23:55.726117"
    },
    "collapsed": false
   },
   "outputs": [
    {
     "name": "stdout",
     "output_type": "stream",
     "text": [
      "https://www.ted.com/talks?language=en&page=2\n"
     ]
    }
   ],
   "source": [
    "next_link_a = pagination_div.find(\"a\", {\"class\", \"pagination__next\"})\n",
    "next_link = next_link_a.attrs['href']\n",
    "next_link = urljoin(base_url, next_link)\n",
    "print(next_link)"
   ]
  },
  {
   "cell_type": "code",
   "execution_count": 8,
   "metadata": {
    "ExecuteTime": {
     "end_time": "2016-09-25T22:27:45.000407",
     "start_time": "2016-09-25T22:23:55.735064"
    },
    "collapsed": false,
    "scrolled": true
   },
   "outputs": [
    {
     "name": "stdout",
     "output_type": "stream",
     "text": [
      "page: 3\n",
      "https://www.ted.com/talks?language=en&page=3\n",
      "page: 4\n",
      "https://www.ted.com/talks?language=en&page=4\n",
      "page: 5\n",
      "https://www.ted.com/talks?language=en&page=5\n",
      "page: 6\n",
      "https://www.ted.com/talks?language=en&page=6\n",
      "page: 7\n",
      "https://www.ted.com/talks?language=en&page=7\n",
      "page: 8\n",
      "https://www.ted.com/talks?language=en&page=8\n",
      "page: 9\n",
      "https://www.ted.com/talks?language=en&page=9\n",
      "page: 10\n",
      "https://www.ted.com/talks?language=en&page=10\n",
      "page: 11\n",
      "https://www.ted.com/talks?language=en&page=11\n",
      "page: 12\n",
      "https://www.ted.com/talks?language=en&page=12\n",
      "page: 13\n",
      "https://www.ted.com/talks?language=en&page=13\n",
      "page: 14\n",
      "https://www.ted.com/talks?language=en&page=14\n",
      "page: 15\n",
      "https://www.ted.com/talks?language=en&page=15\n",
      "page: 16\n",
      "https://www.ted.com/talks?language=en&page=16\n",
      "page: 17\n",
      "https://www.ted.com/talks?language=en&page=17\n",
      "page: 18\n",
      "https://www.ted.com/talks?language=en&page=18\n",
      "page: 19\n",
      "https://www.ted.com/talks?language=en&page=19\n",
      "page: 20\n",
      "https://www.ted.com/talks?language=en&page=20\n",
      "page: 21\n",
      "https://www.ted.com/talks?language=en&page=21\n",
      "page: 22\n",
      "https://www.ted.com/talks?language=en&page=22\n",
      "page: 23\n",
      "https://www.ted.com/talks?language=en&page=23\n",
      "page: 24\n",
      "https://www.ted.com/talks?language=en&page=24\n",
      "page: 25\n",
      "https://www.ted.com/talks?language=en&page=25\n",
      "page: 26\n",
      "https://www.ted.com/talks?language=en&page=26\n",
      "page: 27\n",
      "https://www.ted.com/talks?language=en&page=27\n",
      "page: 28\n",
      "https://www.ted.com/talks?language=en&page=28\n",
      "page: 29\n",
      "https://www.ted.com/talks?language=en&page=29\n",
      "page: 30\n",
      "https://www.ted.com/talks?language=en&page=30\n",
      "page: 31\n",
      "https://www.ted.com/talks?language=en&page=31\n",
      "page: 32\n",
      "https://www.ted.com/talks?language=en&page=32\n",
      "page: 33\n",
      "https://www.ted.com/talks?language=en&page=33\n",
      "page: 34\n",
      "https://www.ted.com/talks?language=en&page=34\n",
      "page: 35\n",
      "https://www.ted.com/talks?language=en&page=35\n",
      "page: 36\n",
      "https://www.ted.com/talks?language=en&page=36\n",
      "page: 37\n",
      "https://www.ted.com/talks?language=en&page=37\n",
      "page: 38\n",
      "https://www.ted.com/talks?language=en&page=38\n",
      "page: 39\n",
      "https://www.ted.com/talks?language=en&page=39\n",
      "page: 40\n",
      "https://www.ted.com/talks?language=en&page=40\n",
      "page: 41\n",
      "https://www.ted.com/talks?language=en&page=41\n",
      "page: 42\n",
      "https://www.ted.com/talks?language=en&page=42\n",
      "page: 43\n",
      "https://www.ted.com/talks?language=en&page=43\n",
      "page: 44\n",
      "https://www.ted.com/talks?language=en&page=44\n",
      "page: 45\n",
      "https://www.ted.com/talks?language=en&page=45\n",
      "page: 46\n",
      "https://www.ted.com/talks?language=en&page=46\n",
      "page: 47\n",
      "https://www.ted.com/talks?language=en&page=47\n",
      "page: 48\n",
      "https://www.ted.com/talks?language=en&page=48\n",
      "page: 49\n",
      "https://www.ted.com/talks?language=en&page=49\n",
      "page: 50\n",
      "https://www.ted.com/talks?language=en&page=50\n",
      "page: 51\n",
      "https://www.ted.com/talks?language=en&page=51\n",
      "page: 52\n",
      "https://www.ted.com/talks?language=en&page=52\n",
      "page: 53\n",
      "https://www.ted.com/talks?language=en&page=53\n",
      "page: 54\n",
      "https://www.ted.com/talks?language=en&page=54\n",
      "page: 55\n",
      "https://www.ted.com/talks?language=en&page=55\n",
      "page: 56\n",
      "https://www.ted.com/talks?language=en&page=56\n",
      "page: 57\n",
      "https://www.ted.com/talks?language=en&page=57\n",
      "page: 58\n",
      "https://www.ted.com/talks?language=en&page=58\n",
      "page: 59\n",
      "https://www.ted.com/talks?language=en&page=59\n",
      "page: 60\n",
      "https://www.ted.com/talks?language=en&page=60\n",
      "page: 61\n",
      "https://www.ted.com/talks?language=en&page=61\n",
      "page: 62\n",
      "https://www.ted.com/talks?language=en&page=62\n",
      "page: 63\n"
     ]
    }
   ],
   "source": [
    "page_counter = 3\n",
    "while True:\n",
    "    target_url = next_link\n",
    "    html = urlopen(target_url)\n",
    "    soup = BeautifulSoup(html.read(), \"lxml\")\n",
    "    \n",
    "    talk_link = soup.find_all(\"div\", {\"class\" : \"talk-link\"})\n",
    "    talk_addresses = [tl.find(\"h4\", {\"class\": \"h9\"}).find(\"a\").attrs['href'] for tl in talk_link]\n",
    "    talk_addresses = [urljoin(base_url, talk_address) for talk_address in talk_addresses]\n",
    "    \n",
    "    print(\"page: %d\" % page_counter)\n",
    "#     for talk_address in talk_addresses:\n",
    "#         print(talk_address)\n",
    "    \n",
    "    # リンクアドレスを追加\n",
    "    for talk_address in talk_addresses:\n",
    "        all_talk_link_address.append(talk_address)\n",
    "    \n",
    "    # 次のページを取得する\n",
    "    pagination_div = soup.find(\"div\", {\"class\" : \"pagination\"})\n",
    "    next_link_a = pagination_div.find(\"a\", {\"class\", \"pagination__next\"})\n",
    "\n",
    "    # もし次のページが存在しない場合は終了\n",
    "    if next_link_a is None:\n",
    "        break\n",
    "\n",
    "    next_link = next_link_a.attrs['href']\n",
    "    next_link = urljoin(base_url, next_link)\n",
    "    print(next_link)\n",
    "\n",
    "    page_counter += 1\n",
    "    time.sleep(2)"
   ]
  },
  {
   "cell_type": "markdown",
   "metadata": {},
   "source": [
    "## トークのトピックを取得する"
   ]
  },
  {
   "cell_type": "markdown",
   "metadata": {},
   "source": [
    "## 1番目のトークについてトピックを取得してみる"
   ]
  },
  {
   "cell_type": "code",
   "execution_count": 9,
   "metadata": {
    "ExecuteTime": {
     "end_time": "2016-09-25T22:27:45.006231",
     "start_time": "2016-09-25T22:27:45.002358"
    },
    "collapsed": false
   },
   "outputs": [
    {
     "name": "stdout",
     "output_type": "stream",
     "text": [
      "https://www.ted.com/talks/rebecca_mackinnon_we_can_fight_terror_without_sacrificing_our_rights?language=en\n"
     ]
    }
   ],
   "source": [
    "target_talk_url = all_talk_link_address[0]\n",
    "print(target_talk_url)"
   ]
  },
  {
   "cell_type": "code",
   "execution_count": 10,
   "metadata": {
    "ExecuteTime": {
     "end_time": "2016-09-25T22:27:46.171461",
     "start_time": "2016-09-25T22:27:45.008579"
    },
    "collapsed": true
   },
   "outputs": [],
   "source": [
    "html = urlopen(target_talk_url)\n",
    "soup = BeautifulSoup(html.read(), \"lxml\")"
   ]
  },
  {
   "cell_type": "code",
   "execution_count": 11,
   "metadata": {
    "ExecuteTime": {
     "end_time": "2016-09-25T22:27:46.189688",
     "start_time": "2016-09-25T22:27:46.174261"
    },
    "collapsed": false
   },
   "outputs": [],
   "source": [
    "talk_topics_div = soup.find(\"div\", {\"class\": \"talk-topics\"})"
   ]
  },
  {
   "cell_type": "code",
   "execution_count": 12,
   "metadata": {
    "ExecuteTime": {
     "end_time": "2016-09-25T22:27:46.212336",
     "start_time": "2016-09-25T22:27:46.192821"
    },
    "collapsed": false
   },
   "outputs": [
    {
     "data": {
      "text/plain": [
       "bs4.element.ResultSet"
      ]
     },
     "execution_count": 12,
     "metadata": {},
     "output_type": "execute_result"
    }
   ],
   "source": [
    "talk_topics_items = talk_topics_div.find_all(\"li\", {\"class\":\"talk-topics__item\"})\n",
    "type(talk_topics_items)"
   ]
  },
  {
   "cell_type": "code",
   "execution_count": 13,
   "metadata": {
    "ExecuteTime": {
     "end_time": "2016-09-25T22:27:46.222810",
     "start_time": "2016-09-25T22:27:46.214293"
    },
    "collapsed": false
   },
   "outputs": [
    {
     "name": "stdout",
     "output_type": "stream",
     "text": [
      "Internet\n",
      "Middle East\n",
      "Communication\n",
      "Democracy\n",
      "Global issues\n",
      "Privacy\n",
      "Protests\n",
      "Security\n",
      "Social media\n",
      "Society\n",
      "Technology\n",
      "Terrorism\n",
      "Violence\n",
      "War\n",
      "Web\n"
     ]
    }
   ],
   "source": [
    "topic_list = []\n",
    "for tti in talk_topics_items:\n",
    "    topic = tti.find(\"a\")\n",
    "    if topic is not None:\n",
    "        topic_str = topic.get_text().replace(\"\\n\",\"\")\n",
    "        print(topic_str)\n",
    "        topic_list.append(topic_str)"
   ]
  },
  {
   "cell_type": "markdown",
   "metadata": {},
   "source": [
    "## トークのTranscrpitを取得する"
   ]
  },
  {
   "cell_type": "code",
   "execution_count": 14,
   "metadata": {
    "ExecuteTime": {
     "end_time": "2016-09-25T22:27:46.232034",
     "start_time": "2016-09-25T22:27:46.224796"
    },
    "collapsed": false
   },
   "outputs": [
    {
     "name": "stdout",
     "output_type": "stream",
     "text": [
      "https://www.ted.com/talks/rebecca_mackinnon_we_can_fight_terror_without_sacrificing_our_rights/transcript?language=en\n"
     ]
    }
   ],
   "source": [
    "target_transcrpit_url = target_talk_url.replace(\"?language=en\", \"/transcript?language=en\")\n",
    "print(target_transcrpit_url)"
   ]
  },
  {
   "cell_type": "code",
   "execution_count": 15,
   "metadata": {
    "ExecuteTime": {
     "end_time": "2016-09-25T22:27:47.139019",
     "start_time": "2016-09-25T22:27:46.234779"
    },
    "collapsed": true
   },
   "outputs": [],
   "source": [
    "html = urlopen(target_transcrpit_url)\n",
    "soup = BeautifulSoup(html.read(), \"lxml\")"
   ]
  },
  {
   "cell_type": "code",
   "execution_count": 16,
   "metadata": {
    "ExecuteTime": {
     "end_time": "2016-09-25T22:27:47.155812",
     "start_time": "2016-09-25T22:27:47.141136"
    },
    "collapsed": false
   },
   "outputs": [],
   "source": [
    "talk_transcrpit_para = soup.find_all(\"p\", {\"class\": \"talk-transcript__para\"})"
   ]
  },
  {
   "cell_type": "code",
   "execution_count": 17,
   "metadata": {
    "ExecuteTime": {
     "end_time": "2016-09-25T22:27:47.173533",
     "start_time": "2016-09-25T22:27:47.157639"
    },
    "collapsed": false
   },
   "outputs": [
    {
     "name": "stdout",
     "output_type": "stream",
     "text": [
      "There's a big questionat the center of lifein our democracies today:How do we fight terrorwithout destroying democracies,without trampling human rights?\n",
      "I've spent much of my careerworking with journalists,with bloggers,with activists,with human rights researchersall around the world,and I've come to the conclusionthat if our democratic societiesdo not double downon protecting and defending human rights,freedom of the pressand a free and open internet,radical extremist ideologiesare much more likely to persist.\n",
      "(Applause)\n",
      "OK, all done. Thank you very much.No, just joking.\n",
      "(Laughter)\n",
      "I actually want to drill downon this a little bit.\n",
      "So, one of the countries that has beenon the frontlines of this issueis Tunisia,which was the only countryto come out of the Arab Springwith a successful democratic revolution.Five years later,they're strugglingwith serious terror attacksand rampant ISIS recruitment.And many Tunisiansare calling on their governmentto do whatever it takes to keep them safe.\n",
      "Tunisian cartoonist Nadia Khiarihas summed up the situationwith this character who says,\"I don't give a damn about human rights.I don't give a damn about the revolution.I don't give a damnabout democracy and liberty.I just want to be safe.\"\n",
      "\"Satisfied?\" asked his jailer.\"You're safe now.\"\n",
      "If the Tunisian people can figure outhow to deal with their terrorism problemwithout ending up in this place,they will be a modelnot only for their region,but for all of us.\n",
      "The reality is that civil society,journalists and activistsare coming under attackfrom extremist groups on the one hand,and, in many countries,also from their own governments.We're seeing bloggersand journalists being jailed,charged and intimidatedby their own governments,many of which are allieswith the West in the war on terror.\n",
      "Just three examples.A friend and former colleague of mine,Hisham Almiraat,has been chargedwith threatening state security,along with six other activists in Morocco.The Saudi blogger Raif Badawihas been jailed and floggedfor insulting Islam and criticizingthe Saudi regime on his blog.More recently, the Turkish representativefor Reporters Without Borders,Erol Önderoglu,has been detained and chargedwith spreading terrorist propaganda,because he and some other activistshave been supporting Kurdish media.\n",
      "Anti-terror measuresquickly turn into state repressionwithout strong protectionfor minority communitiesand for peaceful debate;this needs to be supportedby a robust, independent local media.\n",
      "But while that's not really happening,Washington is teaming upwith Silicon Valley and with Hollywoodto pour millions -- hundredsof millions of dollars --into what's called \"counter-messaging,\"a fancy word for propaganda.To counter the terrorist propagandaspreading all over the internet,in Europe, Internet ReferralUnits are being set up,so that people can reporton extremist content that they findand get it censored.The problem is,that all of this propaganda,monitoring and censorshipcompletely fails to make up for the factthat the people who arethe most credible voices,who can present credible ideasand alternative solutionsto real economic, social and politicalproblems in their communitythat are causing people to turnto extremism in the first place,are being silencedby their own governments.\n",
      "This is all adding up to a decreasein freedom across the world.Freedom House,the human rights organization,reports that 2015 marksthe 10th straight year in a rowof decline in freedom worldwide.And this is not justbecause of the actionsof authoritarian governments.It's also because democratic governmentsare increasingly crackingdown on dissenters,whistle-blowersand investigative journalists.UN Secretary GeneralBan Ki-Moon has warnedthat \"preventing extremism and promotinghuman rights go hand-in-hand.\"It's not to say that governmentsshouldn't keep us safe --of course they should --but we need public oversight, transparencyand accountability to the rule of law.Meanwhile,extremists are literally killing offcivil society in some countries.Since 2013 in Bangladesh,over a dozen secular bloggersand community activistshave been literallyslaughtered by extremistswhile the government has done very little.From the city of Raqqa in Syria,people like Ruqia Hassan and Naji Jerfhave been assassinatedfor their reportingout of ISIS-controlled territory.\n",
      "The citizen media group calledRaqqa is Being Slaughtered Silentlyrelies on strong encryptionto send out their reportsand shield themselvesfrom interception and surveillance.Yet authorities in countrieslike the United States,the United Kingdomand many other democraciesare seeking to use the lawto either weaken or outright banstrong encryption,because the bad guys are using it, too.We have got to fight for the rightof citizens to use strong encryption.Otherwise, dissentand investigative journalismare going to become even more difficultin even more places.And the bad guys -- the criminalsand terrorists --are still going to findways to communicate.Kudos to the companiesthat are standing upfor their users' right to use encryption.\n",
      "But when it comes to censorship,the picture is much more troubling.Yes, there's a real problemof extremist contentspreading all over the internet.And Facebook, YouTube and Twitterare among the many companieswho report having taken down hundredsof thousands of pieces of contentand deactivating accountsthat are connectedto the extremist's speech.The problem is their enforcementmechanisms are a complete black box,and there is collateral damage.\n",
      "Take, for example, Iyad el-Baghdadi,an activist who makes funof ISIS on Twitter.He had his account deactivated,because he shares a surnamewith a prominent ISIS leader.Last December,a number of women named Isis,which also happens to bethe name of an Egyptian goddess,had their accounts deactivated.And this woman,who lives in the United Statesand is a computer programmer,reported on Twitterabout her deactivation on Facebook,managed to get enough media attentionto have her account reinstated.But that's the thing --she had to get media attention.And journalists aren't immune.David Thomson,an expert on terrorism and reporterfor Radio France International,had reports deletedfrom his Facebook accountand had his accountdeactivated for several days,because they containedpictures of ISIS flags,even though he was just reporting on ISIS,not promoting it.\n",
      "And then we have stories from peoplelike this Egyptian man,Ahmed Abdellahy,who reported recently in an eventin Washington DCthat some of his argumentswith extremists --he now spends his time on social mediaarguing with ISIS followers,trying to get them to turn away --some of his argumentswith these extremists get deleted,which he believes has the effectof shielding themfrom alternative points of view.\n",
      "It's unclear whether Facebookeven knows the extentof the collateral damage,or the other companies as well.But we do know that journalism,activism and public debateare being silenced in the effortto stamp out extremist speech.\n",
      "So with these companies having so muchpower over the public discourse,they need to be held accountable.They need to carry out impact assessmentto identify and fix the problemsthat we're clearly seeing.They need to be more transparentabout their enforcement mechanisms,and they need to have clearappeal and grievance mechanisms,so people can gettheir content reinstated.\n",
      "Now, I've been talkingfor the last 10 minutesabout how governments and companiesare making it more difficultfor people like these.This is a picture of membersof the citizen media network,Global Voices,that I helped to cofound over 10 years agowith my friend, Ethan Zuckerman.Interestingly, about 5 years ago,right after the Arab Spring,the data scientist Gilad Lotancreated a network mapof the people in Global Voiceswho were heavy users of Twitterduring the Arab Spring.And he found that many of these peopleserved as key information nodesbetween activists and journaliststhroughout the Tunisianand Egyptian revolution.We've got to make surethat these people not only survive,but are able to continue to thrive.Many of them are still active,other than the ones who have gone to jailor have been driven into hiding or exile.\n",
      "All around the world,people who are sick and tiredof fear and oppressionare linking up in their communitiesand across borders.We've got to do everything we canto push our governments and companiesto do a better jobof protecting their rights.We've also got to be more mindfulabout how our own personal, political,consumer and business choicesaffect people like these around the world.Also, if you follow the news,it's pretty clear that that aloneisn't going to be enough.We've got to take personalresponsibility by joining --or at very least, actively supporting --the growing ecosystemof individuals and groupswho are fighting for social justice,environmental sustainability,government accountability,human rights, freedom of the pressand a free and open internet,all around the world.\n",
      "I believe that, ultimately,we can overcomethe digitally empowered networksof extremism, demagoguery and hate.But ...we've got to do this by reallybeefing up the global networksof citizens around the world,powered by peoplewho are working hard every day,and taking personal riskfor a future world that is morepeaceful, just, open and free.\n",
      "Thanks very much for listening.\n",
      "(Applause)\n"
     ]
    }
   ],
   "source": [
    "for ttp in talk_transcrpit_para:\n",
    "    transcript_text = ttp.find(\"span\", {\"class\": \"talk-transcript__para__text\"})\n",
    "    print(transcript_text.get_text().replace(\"\\n\",\"\"))"
   ]
  }
 ],
 "metadata": {
  "anaconda-cloud": {},
  "kernelspec": {
   "display_name": "Python [default]",
   "language": "python",
   "name": "python3"
  },
  "language_info": {
   "codemirror_mode": {
    "name": "ipython",
    "version": 3
   },
   "file_extension": ".py",
   "mimetype": "text/x-python",
   "name": "python",
   "nbconvert_exporter": "python",
   "pygments_lexer": "ipython3",
   "version": "3.5.2"
  }
 },
 "nbformat": 4,
 "nbformat_minor": 1
}
